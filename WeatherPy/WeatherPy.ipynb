{
 "cells": [
  {
   "cell_type": "markdown",
   "metadata": {},
   "source": [
    "# WeatherPy\n",
    "----\n",
    "\n",
    "#### Note\n",
    "* Instructions have been included for each segment. You do not have to follow them exactly, but they are included to help you think through the steps."
   ]
  },
  {
   "cell_type": "code",
   "execution_count": 1,
   "metadata": {
    "scrolled": true
   },
   "outputs": [
    {
     "name": "stdout",
     "output_type": "stream",
     "text": [
      "Requirement already satisfied: citipy in c:\\users\\court\\appdata\\roaming\\python\\python36\\site-packages (0.0.5)\n",
      "Requirement already satisfied: kdtree>=0.12 in c:\\users\\court\\appdata\\roaming\\python\\python36\\site-packages (from citipy) (0.16)\n"
     ]
    }
   ],
   "source": [
    "import sys\n",
    "!pip install citipy"
   ]
  },
  {
   "cell_type": "code",
   "execution_count": 2,
   "metadata": {
    "scrolled": true
   },
   "outputs": [],
   "source": [
    "# Dependencies and Setup\n",
    "import matplotlib.pyplot as plt\n",
    "import pandas as pd\n",
    "import numpy as np\n",
    "import json\n",
    "import requests\n",
    "import time\n",
    "from scipy.stats import linregress\n",
    "from citipy import citipy\n",
    "\n",
    "#Import API key\n",
    "from api_keys import weather_api_key\n",
    "\n",
    "# Incorporated citipy to determine city based on latitude and longitude\n",
    "\n",
    "\n",
    "# Output File (CSV)\n",
    "output_data_file = \"output_data/cities.csv\"\n",
    "\n",
    "# Range of latitudes and longitudes\n",
    "lat_range = (-90, 90)\n",
    "lng_range = (-180, 180)"
   ]
  },
  {
   "cell_type": "markdown",
   "metadata": {},
   "source": [
    "## Generate Cities List"
   ]
  },
  {
   "cell_type": "code",
   "execution_count": 3,
   "metadata": {},
   "outputs": [
    {
     "data": {
      "text/plain": [
       "593"
      ]
     },
     "execution_count": 3,
     "metadata": {},
     "output_type": "execute_result"
    }
   ],
   "source": [
    "# List for holding lat_lngs and cities\n",
    "lat_lngs = []\n",
    "cities = []\n",
    "\n",
    "# Create a set of random lat and lng combinations\n",
    "lats = np.random.uniform(lat_range[0], lat_range[1], size=1500)\n",
    "lngs = np.random.uniform(lng_range[0], lng_range[1], size=1500)\n",
    "lat_lngs = zip(lats, lngs)\n",
    "\n",
    "# Identify nearest city for each lat, lng combination\n",
    "for lat_lng in lat_lngs:\n",
    "    city = citipy.nearest_city(lat_lng[0], lat_lng[1]).city_name\n",
    "    \n",
    "    # If the city is unique, then add it to a our cities list\n",
    "    if city not in cities:\n",
    "        cities.append(city)\n",
    "\n",
    "# Print the city count to confirm sufficient count\n",
    "len(cities)"
   ]
  },
  {
   "cell_type": "markdown",
   "metadata": {},
   "source": [
    "### Perform API Calls\n",
    "* Perform a weather check on each city using a series of successive API calls.\n",
    "* Include a print log of each city as it'sbeing processed (with the city number and city name).\n"
   ]
  },
  {
   "cell_type": "code",
   "execution_count": 4,
   "metadata": {},
   "outputs": [],
   "source": [
    "url = \"http://api.openweathermap.org/data/2.5/weather?units=Imperial\"\n",
    "#tempunits = \"imperial\"\n",
    "\n",
    "# Build query URL\n",
    "query_url = url + \"&APPID=\" + weather_api_key + \"&q=\" "
   ]
  },
  {
   "cell_type": "code",
   "execution_count": 5,
   "metadata": {},
   "outputs": [
    {
     "data": {
      "text/plain": [
       "'http://api.openweathermap.org/data/2.5/weather?units=Imperial&APPID=a5e7321e0841144adce2b3a841fdf3ca&q='"
      ]
     },
     "execution_count": 5,
     "metadata": {},
     "output_type": "execute_result"
    }
   ],
   "source": [
    "query_url"
   ]
  },
  {
   "cell_type": "code",
   "execution_count": 6,
   "metadata": {},
   "outputs": [
    {
     "name": "stdout",
     "output_type": "stream",
     "text": [
      "{\n",
      "    \"cod\": \"400\",\n",
      "    \"message\": \"Nothing to geocode\"\n",
      "}\n"
     ]
    }
   ],
   "source": [
    "response = requests.get(query_url).json()\n",
    "print(json.dumps(response, indent=4))\n"
   ]
  },
  {
   "cell_type": "code",
   "execution_count": 7,
   "metadata": {
    "scrolled": true
   },
   "outputs": [
    {
     "name": "stdout",
     "output_type": "stream",
     "text": [
      "Beginning Data Acquisition\n",
      "----------------$$$$$ -------------------\n",
      "Processing record number 1 | Ushuaia\n",
      "Processing record number 2 | Severo-Kuril'sk\n",
      "Processing record number 3 | Quelimane\n",
      "Processing record number 4 | Punta Arenas\n",
      "Processing record number 5 | Vaini\n",
      "Processing record number 6 | Mount Gambier\n",
      "Processing record number 7 | Thompson\n",
      "Processing record number 8 | Karratha\n",
      "Processing record number 9 | Amga\n",
      "Processing record number 10 | Lompoc\n",
      "Processing record number 11 | Kapaa\n",
      "Processing record number 12 | Mahébourg\n",
      "Processing record number 13 | Mae Chan\n",
      "Processing record number 14 | Nhulunbuy\n",
      "Processing record number 15 | San Miguel el Alto\n",
      "Processing record number 16 | Kolosovka\n",
      "Processing record number 17 | Bluff\n",
      "City not found... go to the next one!!\n",
      "Processing record number 18 | Torbay\n",
      "Processing record number 19 | Saint George\n",
      "Processing record number 20 | Saldanha\n",
      "Processing record number 21 | Kangaba\n",
      "Processing record number 22 | Rikitea\n",
      "Processing record number 23 | Asilah\n",
      "Processing record number 24 | Guerrero Negro\n",
      "Processing record number 25 | Meadow Lake\n",
      "Processing record number 26 | Leningradskiy\n",
      "Processing record number 27 | Bambous Virieux\n",
      "Processing record number 28 | Puerto Ayora\n",
      "Processing record number 29 | Cayenne\n",
      "Processing record number 30 | Ahipara\n",
      "Processing record number 31 | Jamestown\n",
      "Processing record number 32 | Hermanus\n",
      "Processing record number 33 | Barrow\n",
      "Processing record number 34 | Mandalgovi\n",
      "Processing record number 35 | Charters Towers\n",
      "Processing record number 36 | Yangi Marg`ilon\n",
      "Processing record number 37 | Salinópolis\n",
      "Processing record number 38 | Bonfim\n",
      "Processing record number 39 | Busselton\n",
      "Processing record number 40 | Chegdomyn\n",
      "Processing record number 41 | Chokurdakh\n",
      "Processing record number 42 | Albany\n",
      "Processing record number 43 | Danielskuil\n",
      "Processing record number 44 | Upernavik\n",
      "Processing record number 45 | Qaanaaq\n",
      "Processing record number 46 | Bredasdorp\n",
      "Processing record number 47 | Manggar\n",
      "Processing record number 48 | Haimen\n",
      "Processing record number 49 | Faanui\n",
      "Processing record number 50 | Maxixe\n",
      "Processing record number 51 | Bathsheba\n",
      "Processing record number 52 | Te Anau\n",
      "Processing record number 53 | Cabo San Lucas\n",
      "Processing record number 54 | Bilma\n",
      "Processing record number 55 | Behbahān\n",
      "Processing record number 56 | Ribeira Grande\n",
      "Processing record number 57 | Beroroha\n",
      "Processing record number 58 | Saint-Philippe\n",
      "Processing record number 59 | Port Elizabeth\n",
      "Processing record number 60 | Wuwei\n",
      "Processing record number 61 | Kjøllefjord\n",
      "Processing record number 62 | Bordighera\n",
      "Processing record number 63 | Butaritari\n",
      "Processing record number 64 | Estelle\n",
      "Processing record number 65 | Mataura\n",
      "Processing record number 66 | Hualmay\n",
      "Processing record number 67 | Saint Paul Harbor\n",
      "Processing record number 68 | Bangassou\n",
      "Processing record number 69 | Hilo\n",
      "Processing record number 70 | George Town\n",
      "Processing record number 71 | Castro\n",
      "City not found... go to the next one!!\n",
      "Processing record number 72 | Kahului\n",
      "Processing record number 73 | Athabasca\n",
      "Processing record number 74 | Nikolskoye\n",
      "Processing record number 75 | Melfort\n",
      "Processing record number 76 | Pedro Escobedo\n",
      "Processing record number 77 | Pevek\n",
      "Processing record number 78 | Cuaspud\n",
      "Processing record number 79 | Yellowknife\n",
      "Processing record number 80 | Fortuna\n",
      "Processing record number 81 | Mahibadhoo\n",
      "Processing record number 82 | Nanortalik\n",
      "Processing record number 83 | Yerbogachën\n",
      "Processing record number 84 | Kargasok\n",
      "Processing record number 85 | Lang Son\n",
      "Processing record number 86 | Souillac\n",
      "Processing record number 87 | Mikkeli\n",
      "Processing record number 88 | Port Alfred\n",
      "Processing record number 89 | Dwārka\n",
      "Processing record number 90 | Grindavik\n",
      "Processing record number 91 | Richards Bay\n",
      "Processing record number 92 | Walvis Bay\n",
      "Processing record number 93 | Cape Town\n",
      "Processing record number 94 | North Bend\n",
      "Processing record number 95 | Tuktoyaktuk\n",
      "City not found... go to the next one!!\n",
      "City not found... go to the next one!!\n",
      "Processing record number 96 | Lebu\n",
      "Processing record number 97 | Malanje\n",
      "Processing record number 98 | Airai\n",
      "Processing record number 99 | Dunedin\n",
      "Processing record number 100 | Jhang\n",
      "Processing record number 101 | Henties Bay\n",
      "City not found... go to the next one!!\n",
      "Processing record number 102 | Korzhevskiy\n",
      "Processing record number 103 | Vila Velha\n",
      "Processing record number 104 | Soyo\n",
      "Processing record number 105 | Görele\n",
      "Processing record number 106 | Moerai\n",
      "Processing record number 107 | Yuci\n",
      "Processing record number 108 | Broome\n",
      "Processing record number 109 | Shitkino\n",
      "Processing record number 110 | Avarua\n",
      "City not found... go to the next one!!\n",
      "Processing record number 111 | Nizhniy Tsasuchey\n",
      "Processing record number 112 | Atuona\n",
      "Processing record number 113 | Alta Floresta\n",
      "Processing record number 114 | Norman Wells\n",
      "Processing record number 115 | Maceió\n",
      "Processing record number 116 | Cap Malheureux\n",
      "Processing record number 117 | Tutóia\n",
      "Processing record number 118 | Fairbanks\n",
      "Processing record number 119 | Cockburn Town\n",
      "Processing record number 120 | Hithadhoo\n",
      "Processing record number 121 | Traverse City\n",
      "Processing record number 122 | Vallenar\n",
      "Processing record number 123 | Lagoa\n",
      "Processing record number 124 | Marshalltown\n",
      "Processing record number 125 | Salalah\n",
      "Processing record number 126 | Ilesha\n",
      "Processing record number 127 | Mokhsogollokh\n",
      "Processing record number 128 | Fichē\n",
      "Processing record number 129 | Marawi\n",
      "Processing record number 130 | Hobart\n",
      "Processing record number 131 | Sobolevo\n",
      "Processing record number 132 | Kutum\n",
      "City not found... go to the next one!!\n",
      "Processing record number 133 | Noumea\n",
      "Processing record number 134 | Saint-Joseph\n",
      "Processing record number 135 | Dobryanka\n",
      "Processing record number 136 | Dzhalil'\n",
      "Processing record number 137 | Rocha\n",
      "City not found... go to the next one!!\n",
      "Processing record number 138 | Naliya\n",
      "Processing record number 139 | Hasaki\n",
      "Processing record number 140 | Mackenzie\n",
      "Processing record number 141 | Tomatlán\n",
      "Processing record number 142 | Obo\n",
      "Processing record number 143 | Katsuura\n",
      "Processing record number 144 | Hanzhong\n",
      "Processing record number 145 | Mariakani\n",
      "Processing record number 146 | Songjianghe\n",
      "Processing record number 147 | Puerto Princesa City\n",
      "Processing record number 148 | Shingū\n",
      "Processing record number 149 | Horta\n",
      "Processing record number 150 | East London\n",
      "Processing record number 151 | Springfield\n",
      "Processing record number 152 | Teverya\n",
      "Processing record number 153 | Uyemskiy\n",
      "Processing record number 154 | Mazamari\n",
      "Processing record number 155 | Provideniya\n",
      "City not found... go to the next one!!\n",
      "Processing record number 156 | Nemuro\n",
      "Processing record number 157 | Lavrentiya\n",
      "Processing record number 158 | Vardø\n",
      "City not found... go to the next one!!\n",
      "Processing record number 159 | Kieta\n",
      "Processing record number 160 | Inhambane\n",
      "Processing record number 161 | Deputatsky\n",
      "Processing record number 162 | Vostok\n",
      "Processing record number 163 | Zhezkazgan\n",
      "Processing record number 164 | Clyde River\n",
      "Processing record number 165 | Santana\n",
      "Processing record number 166 | Ricaurte\n",
      "Processing record number 167 | Cidreira\n",
      "City not found... go to the next one!!\n",
      "Processing record number 168 | Kleítos\n",
      "Processing record number 169 | Pemangkat\n",
      "Processing record number 170 | Astara\n",
      "City not found... go to the next one!!\n",
      "Processing record number 171 | Huambo\n",
      "City not found... go to the next one!!\n",
      "Processing record number 172 | Kunming\n",
      "City not found... go to the next one!!\n",
      "Processing record number 173 | Pottstown\n",
      "Processing record number 174 | San Patricio\n",
      "Processing record number 175 | Ponta do Sol\n",
      "City not found... go to the next one!!\n",
      "City not found... go to the next one!!\n",
      "Processing record number 176 | Ilulissat\n",
      "Processing record number 177 | Sarāhan\n",
      "Processing record number 178 | Namatanai\n",
      "Processing record number 179 | Ha Tinh\n",
      "Processing record number 180 | Cangzhou\n",
      "Processing record number 181 | Kuril'sk\n",
      "Processing record number 182 | Iqaluit\n",
      "Processing record number 183 | Neiafu\n",
      "Processing record number 184 | Khatanga\n",
      "Processing record number 185 | Wum\n",
      "Processing record number 186 | Okhotsk\n",
      "Processing record number 187 | Doha\n",
      "Processing record number 188 | Byron Bay\n"
     ]
    },
    {
     "name": "stdout",
     "output_type": "stream",
     "text": [
      "Processing record number 189 | Santa Fe\n",
      "Processing record number 190 | Diu\n",
      "Processing record number 191 | Atagay\n",
      "Processing record number 192 | Sakakah\n",
      "Processing record number 193 | Mongo\n",
      "Processing record number 194 | Grand-Lahou\n",
      "Processing record number 195 | Monte Alegre\n",
      "Processing record number 196 | Bethel\n",
      "Processing record number 197 | Hervey Bay\n",
      "Processing record number 198 | Ancud\n",
      "City not found... go to the next one!!\n",
      "City not found... go to the next one!!\n",
      "Processing record number 199 | Sivaki\n",
      "City not found... go to the next one!!\n",
      "Processing record number 200 | Caucayá\n",
      "City not found... go to the next one!!\n",
      "City not found... go to the next one!!\n",
      "Processing record number 201 | Halifax\n",
      "Processing record number 202 | São Filipe\n",
      "Processing record number 203 | Nouadhibou\n",
      "Processing record number 204 | Zhigansk\n",
      "Processing record number 205 | Katangli\n",
      "Processing record number 206 | Mount Isa\n",
      "Processing record number 207 | Tual\n",
      "Processing record number 208 | Huarmey\n",
      "Processing record number 209 | Datong\n",
      "Processing record number 210 | Kaeo\n",
      "Processing record number 211 | Hatillo\n",
      "Processing record number 212 | New Norfolk\n",
      "Processing record number 213 | Lorengau\n",
      "Processing record number 214 | Ciudad Bolivar\n",
      "Processing record number 215 | Dikson\n",
      "Processing record number 216 | Notre-Dame-du-Lac\n",
      "Processing record number 217 | Westport\n",
      "Processing record number 218 | Puerto Rico\n",
      "Processing record number 219 | Kropotkin\n",
      "Processing record number 220 | Daru\n",
      "Processing record number 221 | Cairns\n",
      "Processing record number 222 | Evensk\n",
      "Processing record number 223 | Sierra Vista\n",
      "Processing record number 224 | Cherskiy\n",
      "Processing record number 225 | Hambantota\n",
      "Processing record number 226 | Shelburne\n",
      "Processing record number 227 | Waddān\n",
      "Processing record number 228 | Bandarbeyla\n",
      "Processing record number 229 | Port Blair\n",
      "Processing record number 230 | Drayton Valley\n",
      "Processing record number 231 | Togur\n",
      "Processing record number 232 | Codrington\n",
      "Processing record number 233 | Goundam\n",
      "Processing record number 234 | Sørland\n",
      "Processing record number 235 | Kavaratti\n",
      "Processing record number 236 | Praia\n",
      "Processing record number 237 | Kasongo\n",
      "Processing record number 238 | Bartica\n",
      "Processing record number 239 | Novo Aripuanã\n",
      "Processing record number 240 | Kavieng\n",
      "Processing record number 241 | Bengkulu\n",
      "Processing record number 242 | Vila\n",
      "Processing record number 243 | Padang\n",
      "Processing record number 244 | Esperance\n",
      "Processing record number 245 | Tuatapere\n",
      "Processing record number 246 | Skalat\n",
      "Processing record number 247 | Agadez\n",
      "Processing record number 248 | Amoy\n",
      "City not found... go to the next one!!\n",
      "Processing record number 249 | Sisimiut\n",
      "Processing record number 250 | Ucluelet\n",
      "City not found... go to the next one!!\n",
      "Processing record number 251 | Kaitangata\n",
      "Processing record number 252 | Chui\n",
      "Processing record number 253 | Carballo\n",
      "Processing record number 254 | Lodwar\n",
      "Processing record number 255 | Isangel\n",
      "Processing record number 256 | Northam\n",
      "Processing record number 257 | Santa Clara\n",
      "Processing record number 258 | Werda\n",
      "Processing record number 259 | Carnarvon\n",
      "Processing record number 260 | Livingston\n",
      "Processing record number 261 | Kuusamo\n",
      "Processing record number 262 | Mar del Plata\n",
      "Processing record number 263 | George Town\n",
      "Processing record number 264 | Sitka\n",
      "Processing record number 265 | Preobrazheniye\n",
      "Processing record number 266 | Opunake\n",
      "Processing record number 267 | Tiksi\n",
      "City not found... go to the next one!!\n",
      "Processing record number 268 | Presidencia Roque Sáenz Peña\n",
      "City not found... go to the next one!!\n",
      "Processing record number 269 | Klaksvík\n",
      "Processing record number 270 | Constitución\n",
      "Processing record number 271 | Perth\n",
      "Processing record number 272 | Rosetta\n",
      "Processing record number 273 | Nishihara\n",
      "City not found... go to the next one!!\n",
      "Processing record number 274 | Bubaque\n",
      "Processing record number 275 | Tasiilaq\n",
      "Processing record number 276 | Dinghaicun\n",
      "Processing record number 277 | Aktas\n",
      "Processing record number 278 | Husavik\n",
      "Processing record number 279 | Christchurch\n",
      "Processing record number 280 | Severnyy\n",
      "Processing record number 281 | Cedar City\n",
      "Processing record number 282 | Metro\n",
      "Processing record number 283 | Kattivākkam\n",
      "Processing record number 284 | Coquimbo\n",
      "Processing record number 285 | Hofn\n",
      "Processing record number 286 | Matiri\n",
      "Processing record number 287 | Vila Franca do Campo\n",
      "Processing record number 288 | Karonga\n",
      "Processing record number 289 | Damaturu\n",
      "Processing record number 290 | Alice Springs\n",
      "Processing record number 291 | Kenora\n",
      "Processing record number 292 | Udachny\n",
      "Processing record number 293 | San Andrés\n",
      "Processing record number 294 | Road Town\n",
      "Processing record number 295 | Kruisfontein\n",
      "Processing record number 296 | Fort Saint James\n",
      "Processing record number 297 | Aklavik\n",
      "Processing record number 298 | Ampanihy\n",
      "Processing record number 299 | Ambilobe\n",
      "Processing record number 300 | Pierre\n",
      "Processing record number 301 | Talakan\n",
      "Processing record number 302 | Moose Factory\n",
      "Processing record number 303 | Saskylakh\n",
      "Processing record number 304 | Montijo\n",
      "Processing record number 305 | Igualada\n",
      "Processing record number 306 | Yaring\n",
      "Processing record number 307 | Fes\n",
      "City not found... go to the next one!!\n",
      "Processing record number 308 | Huntsville\n",
      "Processing record number 309 | Amazar\n",
      "Processing record number 310 | Kazygurt\n",
      "Processing record number 311 | Strezhevoy\n",
      "Processing record number 312 | Kyshtovka\n",
      "City not found... go to the next one!!\n",
      "City not found... go to the next one!!\n",
      "Processing record number 313 | Luk Pu\n",
      "Processing record number 314 | Zhangjiakou\n",
      "Processing record number 315 | Gumlā\n",
      "Processing record number 316 | Nouakchott\n",
      "Processing record number 317 | Los Llanos de Aridane\n",
      "Processing record number 318 | Port Lincoln\n",
      "Processing record number 319 | Celestún\n",
      "Processing record number 320 | Clyde\n",
      "Processing record number 321 | Beloha\n",
      "Processing record number 322 | Tongliao\n",
      "Processing record number 323 | Alofi\n",
      "Processing record number 324 | Ossora\n",
      "City not found... go to the next one!!\n",
      "Processing record number 325 | Puerto Escondido\n",
      "Processing record number 326 | Brae\n",
      "Processing record number 327 | Naze\n",
      "Processing record number 328 | Shiyan\n",
      "Processing record number 329 | College\n",
      "Processing record number 330 | Ambunti\n",
      "City not found... go to the next one!!\n",
      "Processing record number 331 | Innisfail\n",
      "Processing record number 332 | Korla\n",
      "Processing record number 333 | Itarema\n",
      "Processing record number 334 | Butterworth\n",
      "Processing record number 335 | San Antonio\n",
      "Processing record number 336 | Chingirlau\n",
      "Processing record number 337 | Broken Hill\n",
      "Processing record number 338 | Oxelösund\n",
      "Processing record number 339 | Cabedelo\n",
      "Processing record number 340 | Aykhal\n",
      "City not found... go to the next one!!\n",
      "Processing record number 341 | Yulara\n",
      "Processing record number 342 | Akhmeta\n",
      "Processing record number 343 | Dingle\n",
      "Processing record number 344 | Marsh Harbour\n",
      "Processing record number 345 | Reconquista\n",
      "Processing record number 346 | Lobito\n",
      "Processing record number 347 | Soubre\n",
      "City not found... go to the next one!!\n",
      "Processing record number 348 | Olafsvik\n",
      "Processing record number 349 | Les Cayes\n",
      "City not found... go to the next one!!\n",
      "Processing record number 350 | Malchevskaya\n",
      "Processing record number 351 | Kampot\n",
      "Processing record number 352 | Kaili\n",
      "Processing record number 353 | Khanbari\n",
      "Processing record number 354 | Hīt\n",
      "Processing record number 355 | Oktyabr'skiy\n",
      "City not found... go to the next one!!\n",
      "Processing record number 356 | Guéret\n",
      "Processing record number 357 | Scottsbluff\n",
      "Processing record number 358 | Pāsighāt\n",
      "Processing record number 359 | Mīrābād\n",
      "Processing record number 360 | Bocaiúva\n",
      "Processing record number 361 | Pisco\n",
      "Processing record number 362 | Sault Ste. Marie\n",
      "Processing record number 363 | Taseyevo\n",
      "Processing record number 364 | Khāsh\n",
      "Processing record number 365 | Mujiayingzi\n",
      "Processing record number 366 | Touros\n",
      "City not found... go to the next one!!\n",
      "Processing record number 367 | Bryan\n",
      "Processing record number 368 | Mae Ramat\n",
      "City not found... go to the next one!!\n",
      "Processing record number 369 | Ludvika\n",
      "City not found... go to the next one!!\n",
      "Processing record number 370 | Mackay\n",
      "Processing record number 371 | Noblesville\n"
     ]
    },
    {
     "name": "stdout",
     "output_type": "stream",
     "text": [
      "Processing record number 372 | Geraldton\n",
      "Processing record number 373 | Kimbe\n",
      "Processing record number 374 | Pangnirtung\n",
      "Processing record number 375 | Popondetta\n",
      "Processing record number 376 | Çanakkale Province\n",
      "Processing record number 377 | Aksha\n",
      "Processing record number 378 | Kalmunai\n",
      "Processing record number 379 | Tezu\n",
      "Processing record number 380 | Dzaoudzi\n",
      "Processing record number 381 | Wote\n",
      "Processing record number 382 | Longyearbyen\n",
      "Processing record number 383 | Boca del Monte\n",
      "City not found... go to the next one!!\n",
      "Processing record number 384 | Luba\n",
      "Processing record number 385 | Yeruham\n",
      "Processing record number 386 | Mīzan Teferī\n",
      "Processing record number 387 | Laguna\n",
      "Processing record number 388 | Pingliang\n",
      "Processing record number 389 | Yeppoon\n",
      "Processing record number 390 | Kangaatsiaq\n",
      "Processing record number 391 | Kabompo\n",
      "Processing record number 392 | Klyuchi\n",
      "Processing record number 393 | Semporna\n",
      "Processing record number 394 | Yar-Sale\n",
      "Processing record number 395 | Usuki\n",
      "Processing record number 396 | Verāval\n",
      "Processing record number 397 | Morros\n",
      "Processing record number 398 | Adrar\n",
      "Processing record number 399 | Bull Savanna\n",
      "Processing record number 400 | Lüderitz\n",
      "Processing record number 401 | Ambon City\n",
      "Processing record number 402 | Shahreza\n",
      "Processing record number 403 | Mhlambanyatsi\n",
      "City not found... go to the next one!!\n",
      "Processing record number 404 | Swellendam\n",
      "Processing record number 405 | Mildura\n",
      "Processing record number 406 | Buraidah\n",
      "Processing record number 407 | Rocky Mountain House\n",
      "Processing record number 408 | Kolokani\n",
      "Processing record number 409 | Southbridge\n",
      "Processing record number 410 | Lakatoro\n",
      "Processing record number 411 | Yuancheng\n",
      "Processing record number 412 | Labuhan\n",
      "Processing record number 413 | Benalla\n",
      "Processing record number 414 | Breytovo\n",
      "Processing record number 415 | Zabul Province\n",
      "Processing record number 416 | Limbang\n",
      "Processing record number 417 | Marabu\n",
      "Processing record number 418 | Duki\n",
      "Processing record number 419 | Kajiado\n",
      "Processing record number 420 | Nome\n",
      "Processing record number 421 | Chicama\n",
      "Processing record number 422 | Åmot\n",
      "Processing record number 423 | Palmer\n",
      "Processing record number 424 | Hobyo\n",
      "Processing record number 425 | Narsaq\n",
      "Processing record number 426 | Kloulklubed\n",
      "City not found... go to the next one!!\n",
      "Processing record number 427 | Nara\n",
      "Processing record number 428 | Esmeraldas\n",
      "Processing record number 429 | Muggia\n",
      "Processing record number 430 | Novoagansk\n",
      "Processing record number 431 | Troitsk\n",
      "Processing record number 432 | Kologriv\n",
      "Processing record number 433 | Safaga\n",
      "Processing record number 434 | Asău\n",
      "Processing record number 435 | San Jerónimo\n",
      "Processing record number 436 | La Ronge\n",
      "Processing record number 437 | Hobo\n",
      "Processing record number 438 | Dzhebariki-Khaya\n",
      "Processing record number 439 | Mehamn\n",
      "Processing record number 440 | Iquique\n",
      "Processing record number 441 | Valentín Gómez Farías\n",
      "Processing record number 442 | El Alto\n",
      "Processing record number 443 | Tucuruí\n",
      "Processing record number 444 | Arraial do Cabo\n",
      "Processing record number 445 | Cuzăplac\n",
      "Processing record number 446 | Shanghai\n",
      "Processing record number 447 | Hokitika\n",
      "Processing record number 448 | Sinnamary\n",
      "Processing record number 449 | Kyzyl-Suu\n",
      "Processing record number 450 | Turinsk\n",
      "Processing record number 451 | Poum\n",
      "Processing record number 452 | Inuvik\n",
      "Processing record number 453 | Gouyave\n",
      "Processing record number 454 | Sabang\n",
      "Processing record number 455 | Griffith\n",
      "Processing record number 456 | Tallahassee\n",
      "Processing record number 457 | Toktogul\n",
      "Processing record number 458 | Sucúa\n",
      "Processing record number 459 | Malbork\n",
      "Processing record number 460 | Rostovka\n",
      "Processing record number 461 | Tartagal\n",
      "Processing record number 462 | Camacha\n",
      "Processing record number 463 | Miyang\n",
      "Processing record number 464 | Reshetylivka\n",
      "Processing record number 465 | Oeiras\n",
      "Processing record number 466 | Seoul\n",
      "Processing record number 467 | Pauini\n",
      "Processing record number 468 | Beihai\n",
      "City not found... go to the next one!!\n",
      "Processing record number 469 | Ahvāz\n",
      "Processing record number 470 | Erenhot\n",
      "Processing record number 471 | Kajaani\n",
      "Processing record number 472 | Suşehri\n",
      "Processing record number 473 | Tema\n",
      "City not found... go to the next one!!\n",
      "Processing record number 474 | Tautira\n",
      "Processing record number 475 | Bud\n",
      "Processing record number 476 | Portland\n",
      "Processing record number 477 | Birobidzhan\n",
      "Processing record number 478 | Pudozh\n",
      "Processing record number 479 | Qeshm\n",
      "Processing record number 480 | Beira\n",
      "Processing record number 481 | Avera\n",
      "Processing record number 482 | Nantucket\n",
      "Processing record number 483 | Poronaysk\n",
      "Processing record number 484 | Shache\n",
      "Processing record number 485 | Warmbad\n",
      "Processing record number 486 | Necochea\n",
      "Processing record number 487 | Pirapora\n",
      "Processing record number 488 | Beringovskiy\n",
      "Processing record number 489 | Coyhaique\n",
      "Processing record number 490 | São João da Barra\n",
      "Processing record number 491 | Jizan\n",
      "Processing record number 492 | Kengyel\n",
      "City not found... go to the next one!!\n",
      "Processing record number 493 | Pimentel\n",
      "Processing record number 494 | Inta\n",
      "Processing record number 495 | Kasongo-Lunda\n",
      "Processing record number 496 | Churapcha\n",
      "Processing record number 497 | Vao\n",
      "Processing record number 498 | Nagua\n",
      "Processing record number 499 | Spencer\n",
      "Processing record number 500 | Penzance\n",
      "Processing record number 501 | Jumla\n",
      "Processing record number 502 | Paamiut\n",
      "Processing record number 503 | Qinhuangdao\n",
      "Processing record number 504 | Dubbo\n",
      "Processing record number 505 | Morant Bay\n",
      "Processing record number 506 | Isla Mujeres\n",
      "Processing record number 507 | San Policarpo\n",
      "Processing record number 508 | Ust-Nera\n",
      "City not found... go to the next one!!\n",
      "Processing record number 509 | Calabozo\n",
      "Processing record number 510 | Gizo Government Station\n",
      "Processing record number 511 | Chernyshevskiy\n",
      "Processing record number 512 | Cascais\n",
      "Processing record number 513 | Verkhoyansk\n",
      "Processing record number 514 | Hailey\n",
      "Processing record number 515 | Valle Hermoso\n",
      "Processing record number 516 | Saint Anthony\n",
      "Processing record number 517 | Makhachkala\n",
      "Processing record number 518 | Abu Samrah\n",
      "Processing record number 519 | Benguela\n",
      "City not found... go to the next one!!\n",
      "City not found... go to the next one!!\n",
      "Processing record number 520 | Basco\n",
      "Processing record number 521 | Liverpool\n",
      "Processing record number 522 | Xuzhou\n",
      "Processing record number 523 | Santa Cruz de la Sierra\n",
      "Processing record number 524 | Ubari\n",
      "Processing record number 525 | Kalabagh\n",
      "Processing record number 526 | Aripuanã\n",
      "Processing record number 527 | Tigil'\n",
      "Processing record number 528 | Kâhta\n",
      "Processing record number 529 | Okha\n",
      "Processing record number 530 | Anadyr\n",
      "Processing record number 531 | Omboué\n",
      "Processing record number 532 | Kitob\n",
      "City not found... go to the next one!!\n",
      "Processing record number 533 | Brownsville\n",
      "Processing record number 534 | Hutchinson\n",
      "Processing record number 535 | Mayo\n",
      "Processing record number 536 | Berezanka\n",
      "Processing record number 537 | Lukulu\n",
      "Processing record number 538 | Meulaboh\n",
      "Processing record number 539 | Aitape\n",
      "Processing record number 540 | Uyuni\n",
      "Processing record number 541 | Karasjok\n",
      "Processing record number 542 | Bhātāpāra\n",
      "Processing record number 543 | Ulety\n",
      "Processing record number 544 | Mbale\n",
      "Processing record number 545 | Diffa\n",
      " ------$$$$$$ -----\n",
      "Data acquisition finished\n"
     ]
    }
   ],
   "source": [
    "City = []\n",
    "Lat = []\n",
    "Lng = []\n",
    "Max_Temp = []\n",
    "Humidity = []\n",
    "Cloudiness = []\n",
    "Wind_Speed = []\n",
    "Country =[]\n",
    "Date = []\n",
    "\n",
    "# Start a counter\n",
    "city_counter = 1\n",
    "\n",
    "# Pruint the statemetn to start data acquisition\n",
    "print(f\"Beginning Data Acquisition\")\n",
    "print(f\"----------------$$$$$ -------------------\")\n",
    "\n",
    "#Start looping to get each data point for each city\n",
    "\n",
    "for mainCity in cities:\n",
    "    \n",
    "    #try and except methodology in order to make sure if it doesnt find a city, the code does not break\n",
    "    try:\n",
    "        response = requests.get(query_url+ mainCity).json()\n",
    "        City.append(response[\"name\"])\n",
    "        Country.append(response[\"sys\"][\"country\"])\n",
    "        Lat.append(response[\"coord\"][\"lat\"])\n",
    "        Lng.append(response[\"coord\"][\"lon\"])\n",
    "        Max_Temp.append(response[\"main\"][\"temp_max\"])\n",
    "        Humidity.append(response[\"main\"][\"humidity\"])\n",
    "        Cloudiness.append(response[\"clouds\"][\"all\"])\n",
    "        Wind_Speed.append(response[\"wind\"][\"speed\"])\n",
    "        Date.append(response[\"dt\"])\n",
    "        \n",
    "        \n",
    "        #imput the name of the city in the print statment\n",
    "        city_selected = response[\"name\"]\n",
    "        \n",
    "        print(f\"Processing record number {city_counter} | {city_selected}\")\n",
    "        \n",
    "        # Increase the counter by 1 for each loop\n",
    "        city_counter += 1\n",
    "        \n",
    "    except(KeyError, IndexError):\n",
    "        print(\"City not found... go to the next one!!\")\n",
    "        \n",
    "    \n",
    "\n",
    "# Close the print statement after data is acquired\n",
    "print(f\" ------$$$$$$ -----\")\n",
    "print(f\"Data acquisition finished\")\n",
    "        "
   ]
  },
  {
   "cell_type": "code",
   "execution_count": 8,
   "metadata": {},
   "outputs": [
    {
     "data": {
      "text/html": [
       "<div>\n",
       "<style scoped>\n",
       "    .dataframe tbody tr th:only-of-type {\n",
       "        vertical-align: middle;\n",
       "    }\n",
       "\n",
       "    .dataframe tbody tr th {\n",
       "        vertical-align: top;\n",
       "    }\n",
       "\n",
       "    .dataframe thead th {\n",
       "        text-align: right;\n",
       "    }\n",
       "</style>\n",
       "<table border=\"1\" class=\"dataframe\">\n",
       "  <thead>\n",
       "    <tr style=\"text-align: right;\">\n",
       "      <th></th>\n",
       "      <th>City</th>\n",
       "      <th>Lat</th>\n",
       "      <th>Lng</th>\n",
       "      <th>Max Temp</th>\n",
       "      <th>Humidity</th>\n",
       "      <th>Cloudiness</th>\n",
       "      <th>Wind Speed</th>\n",
       "      <th>Country</th>\n",
       "      <th>Date</th>\n",
       "    </tr>\n",
       "  </thead>\n",
       "  <tbody>\n",
       "    <tr>\n",
       "      <th>0</th>\n",
       "      <td>Ushuaia</td>\n",
       "      <td>-54.80</td>\n",
       "      <td>-68.30</td>\n",
       "      <td>59.00</td>\n",
       "      <td>51</td>\n",
       "      <td>75</td>\n",
       "      <td>19.46</td>\n",
       "      <td>AR</td>\n",
       "      <td>1604273163</td>\n",
       "    </tr>\n",
       "    <tr>\n",
       "      <th>1</th>\n",
       "      <td>Severo-Kuril'sk</td>\n",
       "      <td>50.68</td>\n",
       "      <td>156.12</td>\n",
       "      <td>42.73</td>\n",
       "      <td>71</td>\n",
       "      <td>1</td>\n",
       "      <td>8.97</td>\n",
       "      <td>RU</td>\n",
       "      <td>1604273015</td>\n",
       "    </tr>\n",
       "    <tr>\n",
       "      <th>2</th>\n",
       "      <td>Quelimane</td>\n",
       "      <td>-17.88</td>\n",
       "      <td>36.89</td>\n",
       "      <td>71.60</td>\n",
       "      <td>94</td>\n",
       "      <td>20</td>\n",
       "      <td>2.04</td>\n",
       "      <td>MZ</td>\n",
       "      <td>1604273164</td>\n",
       "    </tr>\n",
       "    <tr>\n",
       "      <th>3</th>\n",
       "      <td>Punta Arenas</td>\n",
       "      <td>-53.15</td>\n",
       "      <td>-70.92</td>\n",
       "      <td>53.60</td>\n",
       "      <td>76</td>\n",
       "      <td>0</td>\n",
       "      <td>8.05</td>\n",
       "      <td>CL</td>\n",
       "      <td>1604273164</td>\n",
       "    </tr>\n",
       "    <tr>\n",
       "      <th>4</th>\n",
       "      <td>Vaini</td>\n",
       "      <td>-21.20</td>\n",
       "      <td>-175.20</td>\n",
       "      <td>78.80</td>\n",
       "      <td>78</td>\n",
       "      <td>75</td>\n",
       "      <td>10.29</td>\n",
       "      <td>TO</td>\n",
       "      <td>1604273164</td>\n",
       "    </tr>\n",
       "    <tr>\n",
       "      <th>...</th>\n",
       "      <td>...</td>\n",
       "      <td>...</td>\n",
       "      <td>...</td>\n",
       "      <td>...</td>\n",
       "      <td>...</td>\n",
       "      <td>...</td>\n",
       "      <td>...</td>\n",
       "      <td>...</td>\n",
       "      <td>...</td>\n",
       "    </tr>\n",
       "    <tr>\n",
       "      <th>540</th>\n",
       "      <td>Karasjok</td>\n",
       "      <td>69.47</td>\n",
       "      <td>25.51</td>\n",
       "      <td>41.00</td>\n",
       "      <td>86</td>\n",
       "      <td>100</td>\n",
       "      <td>44.96</td>\n",
       "      <td>NO</td>\n",
       "      <td>1604273326</td>\n",
       "    </tr>\n",
       "    <tr>\n",
       "      <th>541</th>\n",
       "      <td>Bhātāpāra</td>\n",
       "      <td>21.73</td>\n",
       "      <td>81.93</td>\n",
       "      <td>67.50</td>\n",
       "      <td>49</td>\n",
       "      <td>0</td>\n",
       "      <td>5.19</td>\n",
       "      <td>IN</td>\n",
       "      <td>1604273326</td>\n",
       "    </tr>\n",
       "    <tr>\n",
       "      <th>542</th>\n",
       "      <td>Ulety</td>\n",
       "      <td>51.36</td>\n",
       "      <td>112.48</td>\n",
       "      <td>14.76</td>\n",
       "      <td>90</td>\n",
       "      <td>78</td>\n",
       "      <td>7.56</td>\n",
       "      <td>RU</td>\n",
       "      <td>1604273327</td>\n",
       "    </tr>\n",
       "    <tr>\n",
       "      <th>543</th>\n",
       "      <td>Mbale</td>\n",
       "      <td>1.08</td>\n",
       "      <td>34.17</td>\n",
       "      <td>66.61</td>\n",
       "      <td>73</td>\n",
       "      <td>53</td>\n",
       "      <td>1.72</td>\n",
       "      <td>UG</td>\n",
       "      <td>1604273327</td>\n",
       "    </tr>\n",
       "    <tr>\n",
       "      <th>544</th>\n",
       "      <td>Diffa</td>\n",
       "      <td>13.32</td>\n",
       "      <td>12.61</td>\n",
       "      <td>77.88</td>\n",
       "      <td>28</td>\n",
       "      <td>88</td>\n",
       "      <td>9.73</td>\n",
       "      <td>NE</td>\n",
       "      <td>1604273328</td>\n",
       "    </tr>\n",
       "  </tbody>\n",
       "</table>\n",
       "<p>545 rows × 9 columns</p>\n",
       "</div>"
      ],
      "text/plain": [
       "                City    Lat     Lng  Max Temp  Humidity  Cloudiness  \\\n",
       "0            Ushuaia -54.80  -68.30     59.00        51          75   \n",
       "1    Severo-Kuril'sk  50.68  156.12     42.73        71           1   \n",
       "2          Quelimane -17.88   36.89     71.60        94          20   \n",
       "3       Punta Arenas -53.15  -70.92     53.60        76           0   \n",
       "4              Vaini -21.20 -175.20     78.80        78          75   \n",
       "..               ...    ...     ...       ...       ...         ...   \n",
       "540         Karasjok  69.47   25.51     41.00        86         100   \n",
       "541        Bhātāpāra  21.73   81.93     67.50        49           0   \n",
       "542            Ulety  51.36  112.48     14.76        90          78   \n",
       "543            Mbale   1.08   34.17     66.61        73          53   \n",
       "544            Diffa  13.32   12.61     77.88        28          88   \n",
       "\n",
       "     Wind Speed Country        Date  \n",
       "0         19.46      AR  1604273163  \n",
       "1          8.97      RU  1604273015  \n",
       "2          2.04      MZ  1604273164  \n",
       "3          8.05      CL  1604273164  \n",
       "4         10.29      TO  1604273164  \n",
       "..          ...     ...         ...  \n",
       "540       44.96      NO  1604273326  \n",
       "541        5.19      IN  1604273326  \n",
       "542        7.56      RU  1604273327  \n",
       "543        1.72      UG  1604273327  \n",
       "544        9.73      NE  1604273328  \n",
       "\n",
       "[545 rows x 9 columns]"
      ]
     },
     "execution_count": 8,
     "metadata": {},
     "output_type": "execute_result"
    }
   ],
   "source": [
    "city_info = {\n",
    "    \"City\": City,\n",
    "    \"Lat\": Lat,\n",
    "    \"Lng\": Lng,\n",
    "    \"Max Temp\": Max_Temp,\n",
    "    \"Humidity\": Humidity,\n",
    "    \"Cloudiness\": Cloudiness,\n",
    "    \"Wind Speed\": Wind_Speed,\n",
    "    \"Country\": Country,\n",
    "    \"Date\": Date}\n",
    "city_info_df = pd.DataFrame(city_info)\n",
    "city_info_df"
   ]
  },
  {
   "cell_type": "markdown",
   "metadata": {},
   "source": [
    "### Convert Raw Data to DataFrame\n",
    "* Export the city data into a .csv.\n",
    "* Display the DataFrame"
   ]
  },
  {
   "cell_type": "code",
   "execution_count": 9,
   "metadata": {
    "scrolled": true
   },
   "outputs": [],
   "source": [
    "city_info_df.to_csv(r'../output_data/cities.csv', index = False)"
   ]
  },
  {
   "cell_type": "code",
   "execution_count": null,
   "metadata": {},
   "outputs": [],
   "source": []
  },
  {
   "cell_type": "markdown",
   "metadata": {},
   "source": [
    "## Inspect the data and remove the cities where the humidity > 100%.\n",
    "----\n",
    "Skip this step if there are no cities that have humidity > 100%. "
   ]
  },
  {
   "cell_type": "code",
   "execution_count": 10,
   "metadata": {},
   "outputs": [
    {
     "data": {
      "text/html": [
       "<div>\n",
       "<style scoped>\n",
       "    .dataframe tbody tr th:only-of-type {\n",
       "        vertical-align: middle;\n",
       "    }\n",
       "\n",
       "    .dataframe tbody tr th {\n",
       "        vertical-align: top;\n",
       "    }\n",
       "\n",
       "    .dataframe thead th {\n",
       "        text-align: right;\n",
       "    }\n",
       "</style>\n",
       "<table border=\"1\" class=\"dataframe\">\n",
       "  <thead>\n",
       "    <tr style=\"text-align: right;\">\n",
       "      <th></th>\n",
       "      <th>City</th>\n",
       "      <th>Lat</th>\n",
       "      <th>Lng</th>\n",
       "      <th>Max Temp</th>\n",
       "      <th>Humidity</th>\n",
       "      <th>Cloudiness</th>\n",
       "      <th>Wind Speed</th>\n",
       "      <th>Country</th>\n",
       "      <th>Date</th>\n",
       "    </tr>\n",
       "  </thead>\n",
       "  <tbody>\n",
       "  </tbody>\n",
       "</table>\n",
       "</div>"
      ],
      "text/plain": [
       "Empty DataFrame\n",
       "Columns: [City, Lat, Lng, Max Temp, Humidity, Cloudiness, Wind Speed, Country, Date]\n",
       "Index: []"
      ]
     },
     "execution_count": 10,
     "metadata": {},
     "output_type": "execute_result"
    }
   ],
   "source": [
    "HHumidity = city_info_df.loc[city_info_df[\"Humidity\"] > 100, :]\n",
    "HHumidity"
   ]
  },
  {
   "cell_type": "code",
   "execution_count": 11,
   "metadata": {},
   "outputs": [],
   "source": [
    "#  Get the indices of cities that have humidity over 100%.\n"
   ]
  },
  {
   "cell_type": "code",
   "execution_count": 12,
   "metadata": {},
   "outputs": [],
   "source": [
    "# Make a new DataFrame equal to the city data to drop all humidity outliers by index.\n",
    "# Passing \"inplace=False\" will make a copy of the city_data DataFrame, which we call \"clean_city_data\".\n"
   ]
  },
  {
   "cell_type": "code",
   "execution_count": null,
   "metadata": {},
   "outputs": [],
   "source": [
    "\n"
   ]
  },
  {
   "cell_type": "markdown",
   "metadata": {},
   "source": [
    "## Plotting the Data\n",
    "* Use proper labeling of the plots using plot titles (including date of analysis) and axes labels.\n",
    "* Save the plotted figures as .pngs."
   ]
  },
  {
   "cell_type": "markdown",
   "metadata": {},
   "source": [
    "## Latitude vs. Temperature Plot"
   ]
  },
  {
   "cell_type": "code",
   "execution_count": 13,
   "metadata": {
    "scrolled": true
   },
   "outputs": [
    {
     "data": {
      "image/png": "[encoded data removed]",
      "text/plain": [
       "<Figure size 432x288 with 1 Axes>"
      ]
     },
     "metadata": {
      "needs_background": "light"
     },
     "output_type": "display_data"
    }
   ],
   "source": [
    "plt.scatter(city_info_df['Lat'], city_info_df['Max Temp'], marker=\"o\", facecolors='red')\n",
    "plt.title('Latitude Vs. Temperature',fontsize =14)\n",
    "plt.xlabel('Latitude',fontsize =10)\n",
    "plt.ylabel('Temperature',fontsize =10)\n",
    "plt.savefig(r'../output_data/LatVsTemp.png')"
   ]
  },
  {
   "cell_type": "markdown",
   "metadata": {},
   "source": [
    "## Latitude vs. Humidity Plot"
   ]
  },
  {
   "cell_type": "code",
   "execution_count": 14,
   "metadata": {},
   "outputs": [
    {
     "data": {
      "image/png": "[encoded data removed]",
      "text/plain": [
       "<Figure size 432x288 with 1 Axes>"
      ]
     },
     "metadata": {
      "needs_background": "light"
     },
     "output_type": "display_data"
    }
   ],
   "source": [
    "plt.scatter(city_info_df['Lat'], city_info_df['Humidity'], marker=\"o\", facecolors='red')\n",
    "plt.title('Latitude Vs. Humidity',fontsize =14)\n",
    "plt.xlabel('Latitude',fontsize =10)\n",
    "plt.ylabel('Humidity',fontsize =10)\n",
    "plt.savefig(r'../output_data/LatVsHumidity.png')"
   ]
  },
  {
   "cell_type": "markdown",
   "metadata": {},
   "source": [
    "## Latitude vs. Cloudiness Plot"
   ]
  },
  {
   "cell_type": "code",
   "execution_count": 15,
   "metadata": {},
   "outputs": [
    {
     "data": {
      "image/png": "[encoded data removed]",
      "text/plain": [
       "<Figure size 432x288 with 1 Axes>"
      ]
     },
     "metadata": {
      "needs_background": "light"
     },
     "output_type": "display_data"
    }
   ],
   "source": [
    "plt.scatter(city_info_df['Lat'], city_info_df['Cloudiness'], marker=\"o\", facecolors='red')\n",
    "plt.title('Latitude Vs. Cloudiness',fontsize =14)\n",
    "plt.xlabel('Latitude',fontsize =10)\n",
    "plt.ylabel('Cloudiness',fontsize =10)\n",
    "plt.savefig(r'../output_data/LatVsCloudiness.png')"
   ]
  },
  {
   "cell_type": "markdown",
   "metadata": {},
   "source": [
    "## Latitude vs. Wind Speed Plot"
   ]
  },
  {
   "cell_type": "code",
   "execution_count": 16,
   "metadata": {},
   "outputs": [
    {
     "data": {
      "image/png": "[encoded data removed]",
      "text/plain": [
       "<Figure size 432x288 with 1 Axes>"
      ]
     },
     "metadata": {
      "needs_background": "light"
     },
     "output_type": "display_data"
    }
   ],
   "source": [
    "plt.scatter(city_info_df['Lat'], city_info_df['Wind Speed'], marker=\"o\", facecolors='red')\n",
    "plt.title('Latitude Vs. Wind Speed',fontsize =14)\n",
    "plt.xlabel('Latitude',fontsize =10)\n",
    "plt.ylabel('Wind Speed',fontsize =10)\n",
    "plt.savefig(r'../output_data/LatVsWindSpeed.png')"
   ]
  },
  {
   "cell_type": "markdown",
   "metadata": {},
   "source": [
    "## Linear Regression"
   ]
  },
  {
   "cell_type": "code",
   "execution_count": 17,
   "metadata": {},
   "outputs": [
    {
     "data": {
      "text/html": [
       "<div>\n",
       "<style scoped>\n",
       "    .dataframe tbody tr th:only-of-type {\n",
       "        vertical-align: middle;\n",
       "    }\n",
       "\n",
       "    .dataframe tbody tr th {\n",
       "        vertical-align: top;\n",
       "    }\n",
       "\n",
       "    .dataframe thead th {\n",
       "        text-align: right;\n",
       "    }\n",
       "</style>\n",
       "<table border=\"1\" class=\"dataframe\">\n",
       "  <thead>\n",
       "    <tr style=\"text-align: right;\">\n",
       "      <th></th>\n",
       "      <th>City</th>\n",
       "      <th>Lat</th>\n",
       "      <th>Lng</th>\n",
       "      <th>Max Temp</th>\n",
       "      <th>Humidity</th>\n",
       "      <th>Cloudiness</th>\n",
       "      <th>Wind Speed</th>\n",
       "      <th>Country</th>\n",
       "      <th>Date</th>\n",
       "    </tr>\n",
       "  </thead>\n",
       "  <tbody>\n",
       "    <tr>\n",
       "      <th>1</th>\n",
       "      <td>Severo-Kuril'sk</td>\n",
       "      <td>50.68</td>\n",
       "      <td>156.12</td>\n",
       "      <td>42.73</td>\n",
       "      <td>71</td>\n",
       "      <td>1</td>\n",
       "      <td>8.97</td>\n",
       "      <td>RU</td>\n",
       "      <td>1604273015</td>\n",
       "    </tr>\n",
       "    <tr>\n",
       "      <th>6</th>\n",
       "      <td>Thompson</td>\n",
       "      <td>55.74</td>\n",
       "      <td>-97.86</td>\n",
       "      <td>23.00</td>\n",
       "      <td>92</td>\n",
       "      <td>75</td>\n",
       "      <td>6.93</td>\n",
       "      <td>CA</td>\n",
       "      <td>1604273165</td>\n",
       "    </tr>\n",
       "    <tr>\n",
       "      <th>8</th>\n",
       "      <td>Amga</td>\n",
       "      <td>60.90</td>\n",
       "      <td>131.96</td>\n",
       "      <td>-14.49</td>\n",
       "      <td>88</td>\n",
       "      <td>46</td>\n",
       "      <td>1.59</td>\n",
       "      <td>RU</td>\n",
       "      <td>1604273165</td>\n",
       "    </tr>\n",
       "    <tr>\n",
       "      <th>9</th>\n",
       "      <td>Lompoc</td>\n",
       "      <td>34.64</td>\n",
       "      <td>-120.46</td>\n",
       "      <td>78.80</td>\n",
       "      <td>50</td>\n",
       "      <td>1</td>\n",
       "      <td>8.05</td>\n",
       "      <td>US</td>\n",
       "      <td>1604272908</td>\n",
       "    </tr>\n",
       "    <tr>\n",
       "      <th>10</th>\n",
       "      <td>Kapaa</td>\n",
       "      <td>22.08</td>\n",
       "      <td>-159.32</td>\n",
       "      <td>82.40</td>\n",
       "      <td>78</td>\n",
       "      <td>75</td>\n",
       "      <td>14.99</td>\n",
       "      <td>US</td>\n",
       "      <td>1604273166</td>\n",
       "    </tr>\n",
       "    <tr>\n",
       "      <th>...</th>\n",
       "      <td>...</td>\n",
       "      <td>...</td>\n",
       "      <td>...</td>\n",
       "      <td>...</td>\n",
       "      <td>...</td>\n",
       "      <td>...</td>\n",
       "      <td>...</td>\n",
       "      <td>...</td>\n",
       "      <td>...</td>\n",
       "    </tr>\n",
       "    <tr>\n",
       "      <th>540</th>\n",
       "      <td>Karasjok</td>\n",
       "      <td>69.47</td>\n",
       "      <td>25.51</td>\n",
       "      <td>41.00</td>\n",
       "      <td>86</td>\n",
       "      <td>100</td>\n",
       "      <td>44.96</td>\n",
       "      <td>NO</td>\n",
       "      <td>1604273326</td>\n",
       "    </tr>\n",
       "    <tr>\n",
       "      <th>541</th>\n",
       "      <td>Bhātāpāra</td>\n",
       "      <td>21.73</td>\n",
       "      <td>81.93</td>\n",
       "      <td>67.50</td>\n",
       "      <td>49</td>\n",
       "      <td>0</td>\n",
       "      <td>5.19</td>\n",
       "      <td>IN</td>\n",
       "      <td>1604273326</td>\n",
       "    </tr>\n",
       "    <tr>\n",
       "      <th>542</th>\n",
       "      <td>Ulety</td>\n",
       "      <td>51.36</td>\n",
       "      <td>112.48</td>\n",
       "      <td>14.76</td>\n",
       "      <td>90</td>\n",
       "      <td>78</td>\n",
       "      <td>7.56</td>\n",
       "      <td>RU</td>\n",
       "      <td>1604273327</td>\n",
       "    </tr>\n",
       "    <tr>\n",
       "      <th>543</th>\n",
       "      <td>Mbale</td>\n",
       "      <td>1.08</td>\n",
       "      <td>34.17</td>\n",
       "      <td>66.61</td>\n",
       "      <td>73</td>\n",
       "      <td>53</td>\n",
       "      <td>1.72</td>\n",
       "      <td>UG</td>\n",
       "      <td>1604273327</td>\n",
       "    </tr>\n",
       "    <tr>\n",
       "      <th>544</th>\n",
       "      <td>Diffa</td>\n",
       "      <td>13.32</td>\n",
       "      <td>12.61</td>\n",
       "      <td>77.88</td>\n",
       "      <td>28</td>\n",
       "      <td>88</td>\n",
       "      <td>9.73</td>\n",
       "      <td>NE</td>\n",
       "      <td>1604273328</td>\n",
       "    </tr>\n",
       "  </tbody>\n",
       "</table>\n",
       "<p>373 rows × 9 columns</p>\n",
       "</div>"
      ],
      "text/plain": [
       "                City    Lat     Lng  Max Temp  Humidity  Cloudiness  \\\n",
       "1    Severo-Kuril'sk  50.68  156.12     42.73        71           1   \n",
       "6           Thompson  55.74  -97.86     23.00        92          75   \n",
       "8               Amga  60.90  131.96    -14.49        88          46   \n",
       "9             Lompoc  34.64 -120.46     78.80        50           1   \n",
       "10             Kapaa  22.08 -159.32     82.40        78          75   \n",
       "..               ...    ...     ...       ...       ...         ...   \n",
       "540         Karasjok  69.47   25.51     41.00        86         100   \n",
       "541        Bhātāpāra  21.73   81.93     67.50        49           0   \n",
       "542            Ulety  51.36  112.48     14.76        90          78   \n",
       "543            Mbale   1.08   34.17     66.61        73          53   \n",
       "544            Diffa  13.32   12.61     77.88        28          88   \n",
       "\n",
       "     Wind Speed Country        Date  \n",
       "1          8.97      RU  1604273015  \n",
       "6          6.93      CA  1604273165  \n",
       "8          1.59      RU  1604273165  \n",
       "9          8.05      US  1604272908  \n",
       "10        14.99      US  1604273166  \n",
       "..          ...     ...         ...  \n",
       "540       44.96      NO  1604273326  \n",
       "541        5.19      IN  1604273326  \n",
       "542        7.56      RU  1604273327  \n",
       "543        1.72      UG  1604273327  \n",
       "544        9.73      NE  1604273328  \n",
       "\n",
       "[373 rows x 9 columns]"
      ]
     },
     "execution_count": 17,
     "metadata": {},
     "output_type": "execute_result"
    }
   ],
   "source": [
    "N_Hem = city_info_df.loc[city_info_df['Lat'] >= 0,:]\n",
    "S_Hem = city_info_df.loc[city_info_df['Lat'] < 0,:]\n",
    "N_Hem"
   ]
  },
  {
   "cell_type": "markdown",
   "metadata": {},
   "source": [
    "####  Northern Hemisphere - Max Temp vs. Latitude Linear Regression"
   ]
  },
  {
   "cell_type": "code",
   "execution_count": 18,
   "metadata": {},
   "outputs": [
    {
     "data": {
      "image/png": "[encoded data removed]",
      "text/plain": [
       "<Figure size 432x288 with 1 Axes>"
      ]
     },
     "metadata": {
      "needs_background": "light"
     },
     "output_type": "display_data"
    }
   ],
   "source": [
    "x_valuesN = N_Hem['Lat']\n",
    "y_valuesN = N_Hem['Max Temp']\n",
    "\n",
    "plt.scatter(x_valuesN, y_valuesN, marker=\"o\", facecolors='red')\n",
    "\n",
    "(slope, intercept, rvalues, pvalue, stderr) = linregress(x_valuesN, y_valuesN)\n",
    "regress_values = x_valuesN *slope +intercept\n",
    "\n",
    "plt.plot(x_valuesN, regress_values, color='blue')\n",
    "plt.title('Latitude Vs. Max Temp in Northen Hemisphere',fontsize =14)\n",
    "plt.xlabel('Latitude',fontsize =10)\n",
    "plt.ylabel('Max Temp',fontsize =10)\n",
    "line_eq = \"y = \" + str(round(slope,2)) + \"x + \" + str(round(intercept,2))\n",
    "plt.annotate(line_eq,(6,10),fontsize=15,color=\"blue\")\n",
    "plt.savefig(r'../output_data/LatVsmaxtempNorthRegression.png')"
   ]
  },
  {
   "cell_type": "markdown",
   "metadata": {},
   "source": [
    "####  Southern Hemisphere - Max Temp vs. Latitude Linear Regression"
   ]
  },
  {
   "cell_type": "code",
   "execution_count": 19,
   "metadata": {},
   "outputs": [
    {
     "data": {
      "image/png": "[encoded data removed]",
      "text/plain": [
       "<Figure size 432x288 with 1 Axes>"
      ]
     },
     "metadata": {
      "needs_background": "light"
     },
     "output_type": "display_data"
    }
   ],
   "source": [
    "x_valuesS = S_Hem['Lat']\n",
    "y_valuesS = S_Hem['Max Temp']\n",
    "\n",
    "plt.scatter(x_valuesS, y_valuesS, marker=\"o\", facecolors='red')\n",
    "\n",
    "(slope, intercept, rvalues, pvalue, stderr) = linregress(x_valuesS, y_valuesS)\n",
    "regress_values = x_valuesS *slope +intercept\n",
    "\n",
    "plt.plot(x_valuesS, regress_values, color='blue')\n",
    "plt.title('Latitude Vs. Max Temp in Southern Hemisphere',fontsize =14)\n",
    "plt.xlabel('Latitude',fontsize =10)\n",
    "plt.ylabel('Max Temp',fontsize =10)\n",
    "\n",
    "line_eq = \"y = \" + str(round(slope,2)) + \"x + \" + str(round(intercept,2))\n",
    "plt.annotate(line_eq,(-55,85),fontsize=15,color=\"blue\")\n",
    "\n",
    "plt.savefig(r'../output_data/LatVsmaxtempSouthRegression.png')"
   ]
  },
  {
   "cell_type": "markdown",
   "metadata": {},
   "source": [
    "####  Northern Hemisphere - Humidity (%) vs. Latitude Linear Regression"
   ]
  },
  {
   "cell_type": "code",
   "execution_count": 20,
   "metadata": {},
   "outputs": [
    {
     "data": {
      "image/png": "[encoded data removed]",
      "text/plain": [
       "<Figure size 432x288 with 1 Axes>"
      ]
     },
     "metadata": {
      "needs_background": "light"
     },
     "output_type": "display_data"
    }
   ],
   "source": [
    "x_valuesN = N_Hem['Lat']\n",
    "y_valuesN = N_Hem['Humidity']\n",
    "\n",
    "plt.scatter(x_valuesN, y_valuesN, marker=\"o\", facecolors='red')\n",
    "\n",
    "(slope, intercept, rvalues, pvalue, stderr) = linregress(x_valuesN, y_valuesN)\n",
    "regress_values = x_valuesN *slope +intercept\n",
    "\n",
    "plt.plot(x_valuesN, regress_values, color='blue')\n",
    "plt.title('Latitude Vs. Humidity in Northen Hemisphere',fontsize =14)\n",
    "plt.xlabel('Latitude',fontsize =10)\n",
    "plt.ylabel('Humidity',fontsize =10)\n",
    "\n",
    "line_eq = \"y = \" + str(round(slope,2)) + \"x + \" + str(round(intercept,2))\n",
    "plt.annotate(line_eq,(45,20),fontsize=15,color=\"blue\")\n",
    "\n",
    "plt.savefig(r'../output_data/LatVsHumidityNorthRegression.png')"
   ]
  },
  {
   "cell_type": "markdown",
   "metadata": {},
   "source": [
    "####  Southern Hemisphere - Humidity (%) vs. Latitude Linear Regression"
   ]
  },
  {
   "cell_type": "code",
   "execution_count": 21,
   "metadata": {},
   "outputs": [
    {
     "data": {
      "image/png": "[encoded data removed]",
      "text/plain": [
       "<Figure size 432x288 with 1 Axes>"
      ]
     },
     "metadata": {
      "needs_background": "light"
     },
     "output_type": "display_data"
    }
   ],
   "source": [
    "x_valuesS = S_Hem['Lat']\n",
    "y_valuesS = S_Hem['Humidity']\n",
    "\n",
    "plt.scatter(x_valuesS, y_valuesS, marker=\"o\", facecolors='red')\n",
    "\n",
    "(slope, intercept, rvalues, pvalue, stderr) = linregress(x_valuesS, y_valuesS)\n",
    "regress_values = x_valuesS *slope +intercept\n",
    "\n",
    "plt.plot(x_valuesS, regress_values,color='blue')\n",
    "plt.title('Latitude Vs. Max Humidity in Southern Hemisphere',fontsize =14)\n",
    "plt.xlabel('Latitude',fontsize =10)\n",
    "plt.ylabel('Humidity',fontsize =10)\n",
    "\n",
    "line_eq = \"y = \" + str(round(slope,2)) + \"x + \" + str(round(intercept,2))\n",
    "plt.annotate(line_eq,(-55,50),fontsize=15,color=\"blue\")\n",
    "\n",
    "plt.savefig(r'../output_data/LatVsHumiditySouthRegression.png')"
   ]
  },
  {
   "cell_type": "markdown",
   "metadata": {},
   "source": [
    "####  Northern Hemisphere - Cloudiness (%) vs. Latitude Linear Regression"
   ]
  },
  {
   "cell_type": "code",
   "execution_count": 22,
   "metadata": {},
   "outputs": [
    {
     "data": {
      "image/png": "[encoded data removed]",
      "text/plain": [
       "<Figure size 432x288 with 1 Axes>"
      ]
     },
     "metadata": {
      "needs_background": "light"
     },
     "output_type": "display_data"
    }
   ],
   "source": [
    "x_valuesN = N_Hem['Lat']\n",
    "y_valuesN = N_Hem['Cloudiness']\n",
    "\n",
    "plt.scatter(x_valuesN, y_valuesN, marker=\"o\", facecolors='red')\n",
    "\n",
    "(slope, intercept, rvalues, pvalue, stderr) = linregress(x_valuesN, y_valuesN)\n",
    "regress_values = x_valuesN *slope +intercept\n",
    "\n",
    "plt.plot(x_valuesN, regress_values, color='blue')\n",
    "plt.title('Latitude Vs. Cloudiness in Northen Hemisphere',fontsize =14)\n",
    "plt.xlabel('Latitude',fontsize =10)\n",
    "plt.ylabel('Cloudiness',fontsize =10)\n",
    "\n",
    "line_eq = \"y = \" + str(round(slope,2)) + \"x + \" + str(round(intercept,2))\n",
    "plt.annotate(line_eq,(45,10),fontsize=15,color=\"blue\")\n",
    "\n",
    "plt.savefig(r'../output_data/LatVsCloudinessNorthRegression.png')"
   ]
  },
  {
   "cell_type": "markdown",
   "metadata": {},
   "source": [
    "####  Southern Hemisphere - Cloudiness (%) vs. Latitude Linear Regression"
   ]
  },
  {
   "cell_type": "code",
   "execution_count": 23,
   "metadata": {},
   "outputs": [
    {
     "data": {
      "image/png": "[encoded data removed]",
      "text/plain": [
       "<Figure size 432x288 with 1 Axes>"
      ]
     },
     "metadata": {
      "needs_background": "light"
     },
     "output_type": "display_data"
    }
   ],
   "source": [
    "x_valuesS = S_Hem['Lat']\n",
    "y_valuesS = S_Hem['Cloudiness']\n",
    "\n",
    "plt.scatter(x_valuesS, y_valuesS, marker=\"o\", facecolors='red')\n",
    "\n",
    "(slope, intercept, rvalues, pvalue, stderr) = linregress(x_valuesS, y_valuesS)\n",
    "regress_values = x_valuesS *slope +intercept\n",
    "\n",
    "plt.plot(x_valuesS, regress_values, color='blue')\n",
    "plt.title('Latitude Vs. Cloudiness in Southern Hemisphere',fontsize =14)\n",
    "plt.xlabel('Latitude',fontsize =10)\n",
    "plt.ylabel('Cloudiness',fontsize =10)\n",
    "\n",
    "line_eq = \"y = \" + str(round(slope,2)) + \"x + \" + str(round(intercept,2))\n",
    "plt.annotate(line_eq,(-55,50),fontsize=15,color=\"blue\")\n",
    "\n",
    "plt.savefig(r'../output_data/LatVsCloudinessSouthRegression.png')"
   ]
  },
  {
   "cell_type": "markdown",
   "metadata": {},
   "source": [
    "####  Northern Hemisphere - Wind Speed (mph) vs. Latitude Linear Regression"
   ]
  },
  {
   "cell_type": "code",
   "execution_count": 24,
   "metadata": {},
   "outputs": [
    {
     "data": {
      "image/png": "[encoded data removed]",
      "text/plain": [
       "<Figure size 432x288 with 1 Axes>"
      ]
     },
     "metadata": {
      "needs_background": "light"
     },
     "output_type": "display_data"
    }
   ],
   "source": [
    "x_valuesN = N_Hem['Lat']\n",
    "y_valuesN = N_Hem['Wind Speed']\n",
    "\n",
    "plt.scatter(x_valuesN, y_valuesN, marker=\"o\", facecolors='red')\n",
    "\n",
    "(slope, intercept, rvalues, pvalue, stderr) = linregress(x_valuesN, y_valuesN)\n",
    "regress_values = x_valuesN *slope +intercept\n",
    "\n",
    "plt.plot(x_valuesN, regress_values, color='blue')\n",
    "plt.title('Latitude Vs. Wind Speed in Northen Hemisphere',fontsize =14)\n",
    "plt.xlabel('Latitude',fontsize =10)\n",
    "plt.ylabel('Wind Speed',fontsize =10)\n",
    "\n",
    "line_eq = \"y = \" + str(round(slope,2)) + \"x + \" + str(round(intercept,2))\n",
    "plt.annotate(line_eq,(25,27),fontsize=15,color=\"blue\")\n",
    "\n",
    "plt.savefig(r'../output_data/LatVsWindSpeedNorthRegression.png')"
   ]
  },
  {
   "cell_type": "markdown",
   "metadata": {},
   "source": [
    "####  Southern Hemisphere - Wind Speed (mph) vs. Latitude Linear Regression"
   ]
  },
  {
   "cell_type": "code",
   "execution_count": 25,
   "metadata": {},
   "outputs": [
    {
     "data": {
      "image/png": "[encoded data removed]",
      "text/plain": [
       "<Figure size 432x288 with 1 Axes>"
      ]
     },
     "metadata": {
      "needs_background": "light"
     },
     "output_type": "display_data"
    }
   ],
   "source": [
    "x_valuesS = S_Hem['Lat']\n",
    "y_valuesS = S_Hem['Wind Speed']\n",
    "\n",
    "plt.scatter(x_valuesS, y_valuesS, marker=\"o\", facecolors='red')\n",
    "\n",
    "(slope, intercept, rvalues, pvalue, stderr) = linregress(x_valuesS, y_valuesS)\n",
    "regress_values = x_valuesS *slope +intercept\n",
    "\n",
    "plt.plot(x_valuesS, regress_values, color='blue')\n",
    "plt.title('Latitude Vs. Wind Speed in Southern Hemisphere',fontsize =14)\n",
    "plt.xlabel('Latitude',fontsize =10)\n",
    "plt.ylabel('Wind Speed',fontsize =10)\n",
    "\n",
    "line_eq = \"y = \" + str(round(slope,2)) + \"x + \" + str(round(intercept,2))\n",
    "plt.annotate(line_eq,(-30,35),fontsize=15,color=\"blue\")\n",
    "\n",
    "plt.savefig(r'../output_data/LatVswindspeedSouthRegression.png')"
   ]
  },
  {
   "cell_type": "code",
   "execution_count": null,
   "metadata": {},
   "outputs": [],
   "source": []
  }
 ],
 "metadata": {
  "anaconda-cloud": {},
  "kernel_info": {
   "name": "python3"
  },
  "kernelspec": {
   "display_name": "Python 3",
   "language": "python",
   "name": "python3"
  },
  "language_info": {
   "codemirror_mode": {
    "name": "ipython",
    "version": 3
   },
   "file_extension": ".py",
   "mimetype": "text/x-python",
   "name": "python",
   "nbconvert_exporter": "python",
   "pygments_lexer": "ipython3",
   "version": "3.6.10"
  },
  "latex_envs": {
   "LaTeX_envs_menu_present": true,
   "autoclose": false,
   "autocomplete": true,
   "bibliofile": "biblio.bib",
   "cite_by": "apalike",
   "current_citInitial": 1,
   "eqLabelWithNumbers": true,
   "eqNumInitial": 1,
   "hotkeys": {
    "equation": "Ctrl-E",
    "itemize": "Ctrl-I"
   },
   "labels_anchors": false,
   "latex_user_defs": false,
   "report_style_numbering": false,
   "user_envs_cfg": false
  },
  "nteract": {
   "version": "0.12.3"
  }
 },
 "nbformat": 4,
 "nbformat_minor": 2
}
