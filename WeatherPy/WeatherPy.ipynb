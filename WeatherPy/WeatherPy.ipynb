{
 "cells": [
  {
   "cell_type": "markdown",
   "metadata": {},
   "source": [
    "# WeatherPy\n",
    "----\n",
    "\n",
    "#### Note\n",
    "* Instructions have been included for each segment. You do not have to follow them exactly, but they are included to help you think through the steps."
   ]
  },
  {
   "cell_type": "code",
   "execution_count": 1,
   "metadata": {
    "scrolled": true
   },
   "outputs": [
    {
     "name": "stdout",
     "output_type": "stream",
     "text": [
      "Requirement already satisfied: citipy in c:\\users\\court\\appdata\\roaming\\python\\python36\\site-packages (0.0.5)\n",
      "Requirement already satisfied: kdtree>=0.12 in c:\\users\\court\\appdata\\roaming\\python\\python36\\site-packages (from citipy) (0.16)\n"
     ]
    }
   ],
   "source": [
    "import sys\n",
    "!pip install citipy"
   ]
  },
  {
   "cell_type": "code",
   "execution_count": 4,
   "metadata": {
    "scrolled": true
   },
   "outputs": [],
   "source": [
    "# Dependencies and Setup\n",
    "import matplotlib.pyplot as plt\n",
    "import pandas as pd\n",
    "import numpy as np\n",
    "import json\n",
    "import requests\n",
    "import time\n",
    "from scipy.stats import linregress\n",
    "from citipy import citipy\n",
    "\n",
    "#Import API key\n",
    "from api_keys import weather_api_key\n",
    "\n",
    "# Incorporated citipy to determine city based on latitude and longitude\n",
    "\n",
    "\n",
    "# Output File (CSV)\n",
    "output_data_file = \"output_data/cities.csv\"\n",
    "\n",
    "# Range of latitudes and longitudes\n",
    "lat_range = (-90, 90)\n",
    "lng_range = (-180, 180)"
   ]
  },
  {
   "cell_type": "markdown",
   "metadata": {},
   "source": [
    "## Generate Cities List"
   ]
  },
  {
   "cell_type": "code",
   "execution_count": 5,
   "metadata": {},
   "outputs": [
    {
     "data": {
      "text/plain": [
       "637"
      ]
     },
     "execution_count": 5,
     "metadata": {},
     "output_type": "execute_result"
    }
   ],
   "source": [
    "# List for holding lat_lngs and cities\n",
    "lat_lngs = []\n",
    "cities = []\n",
    "\n",
    "# Create a set of random lat and lng combinations\n",
    "lats = np.random.uniform(lat_range[0], lat_range[1], size=1500)\n",
    "lngs = np.random.uniform(lng_range[0], lng_range[1], size=1500)\n",
    "lat_lngs = zip(lats, lngs)\n",
    "\n",
    "# Identify nearest city for each lat, lng combination\n",
    "for lat_lng in lat_lngs:\n",
    "    city = citipy.nearest_city(lat_lng[0], lat_lng[1]).city_name\n",
    "    \n",
    "    # If the city is unique, then add it to a our cities list\n",
    "    if city not in cities:\n",
    "        cities.append(city)\n",
    "\n",
    "# Print the city count to confirm sufficient count\n",
    "len(cities)"
   ]
  },
  {
   "cell_type": "markdown",
   "metadata": {},
   "source": [
    "### Perform API Calls\n",
    "* Perform a weather check on each city using a series of successive API calls.\n",
    "* Include a print log of each city as it'sbeing processed (with the city number and city name).\n"
   ]
  },
  {
   "cell_type": "code",
   "execution_count": 6,
   "metadata": {},
   "outputs": [],
   "source": [
    "url = \"http://api.openweathermap.org/data/2.5/weather?units=Imperial\"\n",
    "#tempunits = \"imperial\"\n",
    "\n",
    "# Build query URL\n",
    "query_url = url + \"&APPID=\" + weather_api_key + \"&q=\" "
   ]
  },
  {
   "cell_type": "code",
   "execution_count": 7,
   "metadata": {},
   "outputs": [
    {
     "data": {
      "text/plain": [
       "'http://api.openweathermap.org/data/2.5/weather?units=Imperial&APPID=a5e7321e0841144adce2b3a841fdf3ca&q='"
      ]
     },
     "execution_count": 7,
     "metadata": {},
     "output_type": "execute_result"
    }
   ],
   "source": [
    "query_url"
   ]
  },
  {
   "cell_type": "code",
   "execution_count": 8,
   "metadata": {},
   "outputs": [
    {
     "name": "stdout",
     "output_type": "stream",
     "text": [
      "{\n",
      "    \"cod\": \"400\",\n",
      "    \"message\": \"Nothing to geocode\"\n",
      "}\n"
     ]
    }
   ],
   "source": [
    "response = requests.get(query_url).json()\n",
    "print(json.dumps(response, indent=4))\n"
   ]
  },
  {
   "cell_type": "code",
   "execution_count": 9,
   "metadata": {
    "scrolled": true
   },
   "outputs": [
    {
     "name": "stdout",
     "output_type": "stream",
     "text": [
      "Beginning Data Acquisition\n",
      "----------------$$$$$ -------------------\n",
      "City not found... go to the next one!!\n",
      "Processing record number 1 | Novyy Karachay\n",
      "Processing record number 2 | Biograd na Moru\n",
      "Processing record number 3 | Te Anau\n",
      "Processing record number 4 | Port Elizabeth\n",
      "Processing record number 5 | Narsaq\n",
      "Processing record number 6 | Pisco\n",
      "Processing record number 7 | Hermanus\n",
      "Processing record number 8 | Saint-Philippe\n",
      "Processing record number 9 | Horní Slavkov\n",
      "Processing record number 10 | Ust-Nera\n",
      "Processing record number 11 | Barrow\n",
      "Processing record number 12 | Tiznit Province\n",
      "Processing record number 13 | Rikitea\n",
      "Processing record number 14 | Provideniya\n",
      "Processing record number 15 | Tasiilaq\n",
      "Processing record number 16 | Thinadhoo\n",
      "Processing record number 17 | La Rioja\n",
      "Processing record number 18 | Livingstonia\n",
      "City not found... go to the next one!!\n",
      "Processing record number 19 | Guerrero Negro\n",
      "Processing record number 20 | Palmer\n",
      "Processing record number 21 | Kapaa\n",
      "Processing record number 22 | San Rafael\n",
      "Processing record number 23 | New Norfolk\n",
      "Processing record number 24 | Qaanaaq\n",
      "Processing record number 25 | Butaritari\n",
      "Processing record number 26 | Esperance\n",
      "Processing record number 27 | Albany\n",
      "Processing record number 28 | Upernavik\n",
      "Processing record number 29 | George Town\n",
      "Processing record number 30 | Vaini\n",
      "Processing record number 31 | Punta Arenas\n",
      "Processing record number 32 | Busselton\n",
      "Processing record number 33 | Port Alfred\n",
      "Processing record number 34 | Banjar\n",
      "City not found... go to the next one!!\n",
      "Processing record number 35 | Seoul\n",
      "Processing record number 36 | Fairbanks\n",
      "City not found... go to the next one!!\n",
      "Processing record number 37 | Petropavlovsk-Kamchatskiy\n",
      "Processing record number 38 | Bluff\n",
      "Processing record number 39 | Mataura\n",
      "Processing record number 40 | Tiksi\n",
      "Processing record number 41 | Norman Wells\n",
      "Processing record number 42 | Ushuaia\n",
      "Processing record number 43 | Cape Town\n",
      "Processing record number 44 | Arraial do Cabo\n",
      "Processing record number 45 | Roald\n",
      "Processing record number 46 | Nome\n",
      "Processing record number 47 | Faya\n",
      "Processing record number 48 | São João da Barra\n",
      "Processing record number 49 | Buala\n",
      "Processing record number 50 | East London\n",
      "Processing record number 51 | Bathsheba\n",
      "Processing record number 52 | Saldanha\n",
      "Processing record number 53 | Mehamn\n",
      "Processing record number 54 | Longyearbyen\n",
      "Processing record number 55 | Hobart\n",
      "Processing record number 56 | Quatre Cocos\n",
      "City not found... go to the next one!!\n",
      "Processing record number 57 | Alofi\n",
      "Processing record number 58 | Plettenberg Bay\n",
      "Processing record number 59 | Vostok\n",
      "Processing record number 60 | Murray Bridge\n",
      "Processing record number 61 | New Waterford\n",
      "Processing record number 62 | Okhotsk\n",
      "Processing record number 63 | Ayan\n",
      "Processing record number 64 | Miyako\n",
      "Processing record number 65 | Atuona\n",
      "City not found... go to the next one!!\n",
      "Processing record number 66 | Avarua\n",
      "Processing record number 67 | Dikson\n",
      "Processing record number 68 | Darhan\n",
      "Processing record number 69 | ‘Āhuimanu\n",
      "Processing record number 70 | Aripuanã\n",
      "Processing record number 71 | Lang Son\n",
      "City not found... go to the next one!!\n",
      "Processing record number 72 | Jamestown\n",
      "Processing record number 73 | Fālākāta\n",
      "Processing record number 74 | Tuktoyaktuk\n",
      "Processing record number 75 | Saint Paul Harbor\n",
      "Processing record number 76 | Severo-Kuril'sk\n",
      "Processing record number 77 | Barra de Tecoanapa\n",
      "Processing record number 78 | Ribas do Rio Pardo\n",
      "Processing record number 79 | Mar del Plata\n",
      "Processing record number 80 | Mahébourg\n",
      "Processing record number 81 | Ulladulla\n",
      "Processing record number 82 | Dunedin\n",
      "Processing record number 83 | Constitución\n",
      "Processing record number 84 | Trofors\n",
      "Processing record number 85 | Bereda\n",
      "Processing record number 86 | Magistral'nyy\n",
      "Processing record number 87 | Derby\n",
      "Processing record number 88 | Puerto Ayora\n",
      "Processing record number 89 | Saskylakh\n",
      "City not found... go to the next one!!\n",
      "Processing record number 90 | Limbang\n",
      "Processing record number 91 | Wagga Wagga\n",
      "Processing record number 92 | Samaná\n",
      "Processing record number 93 | Blackwater\n",
      "Processing record number 94 | Oistins\n",
      "Processing record number 95 | Faanui\n",
      "Processing record number 96 | Taoudenni\n",
      "Processing record number 97 | Pulaski\n",
      "Processing record number 98 | Yārāda\n",
      "Processing record number 99 | Liverpool\n",
      "Processing record number 100 | Guntakal\n",
      "Processing record number 101 | Jiaocheng\n",
      "Processing record number 102 | Yar-Sale\n",
      "Processing record number 103 | Port Hedland\n",
      "Processing record number 104 | Ilulissat\n",
      "Processing record number 105 | Lebu\n",
      "Processing record number 106 | Chui\n",
      "Processing record number 107 | Port Blair\n",
      "Processing record number 108 | Airai\n",
      "Processing record number 109 | Salalah\n",
      "Processing record number 110 | Hilo\n",
      "Processing record number 111 | Litovko\n",
      "Processing record number 112 | Zhoucheng\n",
      "City not found... go to the next one!!\n",
      "Processing record number 113 | Mossamedes\n",
      "Processing record number 114 | Helong\n",
      "Processing record number 115 | Hong Kong\n",
      "Processing record number 116 | Lima Duarte\n",
      "Processing record number 117 | Lakselv\n",
      "Processing record number 118 | Karhal\n",
      "City not found... go to the next one!!\n",
      "Processing record number 119 | Bambous Virieux\n",
      "Processing record number 120 | Andros Town\n",
      "Processing record number 121 | Cayenne\n",
      "Processing record number 122 | Aykhal\n",
      "Processing record number 123 | Kavaratti\n",
      "Processing record number 124 | Waipawa\n",
      "Processing record number 125 | Kabale\n",
      "Processing record number 126 | Tambopata\n",
      "Processing record number 127 | Maniitsoq\n",
      "Processing record number 128 | Khatanga\n",
      "Processing record number 129 | Goderich\n",
      "Processing record number 130 | Khonsa\n",
      "Processing record number 131 | Cochrane\n",
      "Processing record number 132 | Mocajuba\n",
      "Processing record number 133 | Fortuna\n",
      "Processing record number 134 | Cabo San Lucas\n",
      "Processing record number 135 | Iqaluit\n",
      "Processing record number 136 | Sapele\n",
      "Processing record number 137 | Bengkulu\n",
      "Processing record number 138 | San Patricio\n",
      "Processing record number 139 | Husavik\n",
      "Processing record number 140 | Rocha\n",
      "Processing record number 141 | Koumac\n",
      "Processing record number 142 | Santa Rosa\n",
      "Processing record number 143 | Souillac\n",
      "Processing record number 144 | Melo\n",
      "Processing record number 145 | Yellowknife\n",
      "Processing record number 146 | Nauta\n",
      "City not found... go to the next one!!\n",
      "City not found... go to the next one!!\n",
      "Processing record number 147 | Aksarka\n",
      "Processing record number 148 | Dvinskoy Bereznik\n",
      "Processing record number 149 | Laas\n",
      "Processing record number 150 | Hammerfest\n",
      "Processing record number 151 | Whitianga\n",
      "Processing record number 152 | Castro\n",
      "Processing record number 153 | Hithadhoo\n",
      "Processing record number 154 | Nanortalik\n",
      "Processing record number 155 | Westport\n",
      "Processing record number 156 | Fuxin\n",
      "Processing record number 157 | Manaus\n",
      "Processing record number 158 | Tripoli\n",
      "Processing record number 159 | Karratha\n",
      "Processing record number 160 | Swellendam\n",
      "Processing record number 161 | Hongjiang\n",
      "Processing record number 162 | Kavieng\n",
      "Processing record number 163 | Ambon City\n",
      "Processing record number 164 | Cherskiy\n",
      "Processing record number 165 | Ketchikan\n",
      "Processing record number 166 | Islamkot\n",
      "Processing record number 167 | Klaksvík\n",
      "Processing record number 168 | Santiago\n",
      "Processing record number 169 | Flagstaff\n",
      "Processing record number 170 | Chokurdakh\n",
      "Processing record number 171 | Laurel\n",
      "City not found... go to the next one!!\n",
      "Processing record number 172 | Comodoro Rivadavia\n",
      "Processing record number 173 | Vila Velha\n",
      "Processing record number 174 | Talnakh\n",
      "Processing record number 175 | Buta\n",
      "Processing record number 176 | Prymors'k\n",
      "Processing record number 177 | Bereket\n",
      "Processing record number 178 | Ishigaki\n",
      "Processing record number 179 | Tura\n",
      "Processing record number 180 | Amalāpuram\n",
      "Processing record number 181 | Flinders\n",
      "Processing record number 182 | Tessalit\n",
      "Processing record number 183 | Thompson\n",
      "Processing record number 184 | Jutaí\n",
      "Processing record number 185 | Kathmandu\n",
      "Processing record number 186 | Margate\n",
      "Processing record number 187 | Itarema\n",
      "Processing record number 188 | Ponta do Sol\n",
      "Processing record number 189 | Panacan\n",
      "Processing record number 190 | Adrar\n"
     ]
    },
    {
     "name": "stdout",
     "output_type": "stream",
     "text": [
      "Processing record number 191 | Geraldton\n",
      "Processing record number 192 | Mathbaria\n",
      "Processing record number 193 | Kabakovo\n",
      "Processing record number 194 | Sitka\n",
      "Processing record number 195 | Lagoa\n",
      "Processing record number 196 | Vila\n",
      "Processing record number 197 | Synya\n",
      "Processing record number 198 | Ballina\n",
      "Processing record number 199 | Tevriz\n",
      "City not found... go to the next one!!\n",
      "Processing record number 200 | Laguna\n",
      "Processing record number 201 | Mount Gambier\n",
      "Processing record number 202 | Anacortes\n",
      "Processing record number 203 | Odienné\n",
      "Processing record number 204 | Nikolskoye\n",
      "Processing record number 205 | Taltal\n",
      "Processing record number 206 | Bethel\n",
      "Processing record number 207 | Ribeira Grande\n",
      "Processing record number 208 | Warmbad\n",
      "Processing record number 209 | At-Bashi\n",
      "Processing record number 210 | Touros\n",
      "Processing record number 211 | Tignère\n",
      "Processing record number 212 | Mahon\n",
      "Processing record number 213 | Yangi Marg`ilon\n",
      "Processing record number 214 | Kasongo-Lunda\n",
      "Processing record number 215 | Makakilo City\n",
      "Processing record number 216 | Muravlenko\n",
      "Processing record number 217 | Bredasdorp\n",
      "Processing record number 218 | Sahuaripa\n",
      "Processing record number 219 | Khovd\n",
      "Processing record number 220 | Huarmey\n",
      "Processing record number 221 | Neryungri\n",
      "Processing record number 222 | Bosaso\n",
      "Processing record number 223 | Angoche\n",
      "Processing record number 224 | Leningradskiy\n",
      "Processing record number 225 | Port Macquarie\n",
      "Processing record number 226 | Keti Bandar\n",
      "Processing record number 227 | Lavrentiya\n",
      "Processing record number 228 | Morant Bay\n",
      "Processing record number 229 | Edd\n",
      "Processing record number 230 | Santa Cruz de la Sierra\n",
      "Processing record number 231 | Saint-François\n",
      "Processing record number 232 | Barcelos\n",
      "Processing record number 233 | Nemuro\n",
      "Processing record number 234 | Pozhva\n",
      "Processing record number 235 | Bilma\n",
      "Processing record number 236 | Miandrivazo\n",
      "Processing record number 237 | Ixtapa\n",
      "City not found... go to the next one!!\n",
      "Processing record number 238 | Mehrān\n",
      "Processing record number 239 | Várzea Paulista\n",
      "Processing record number 240 | Altagracia de Orituco\n",
      "City not found... go to the next one!!\n",
      "Processing record number 241 | Lotofaga\n",
      "Processing record number 242 | Saint George\n",
      "Processing record number 243 | Kurandvād\n",
      "Processing record number 244 | Poço Verde\n",
      "City not found... go to the next one!!\n",
      "Processing record number 245 | Guasdualito\n",
      "Processing record number 246 | Okakarara\n",
      "Processing record number 247 | Yong’an\n",
      "Processing record number 248 | Pacific Grove\n",
      "Processing record number 249 | The Valley\n",
      "Processing record number 250 | Eganville\n",
      "Processing record number 251 | Kruisfontein\n",
      "Processing record number 252 | Coyhaique\n",
      "City not found... go to the next one!!\n",
      "Processing record number 253 | Ghanzi\n",
      "Processing record number 254 | Ucluelet\n",
      "Processing record number 255 | Carnarvon\n",
      "Processing record number 256 | Grand Gaube\n",
      "Processing record number 257 | Kewanee\n",
      "Processing record number 258 | Koslan\n",
      "Processing record number 259 | Maracaçumé\n",
      "Processing record number 260 | Wright\n",
      "Processing record number 261 | Haines Junction\n",
      "Processing record number 262 | Pochutla\n",
      "Processing record number 263 | Finspång\n",
      "Processing record number 264 | Kargasok\n",
      "Processing record number 265 | Brae\n",
      "Processing record number 266 | Yulara\n",
      "Processing record number 267 | Horta\n",
      "City not found... go to the next one!!\n",
      "Processing record number 268 | Rønne\n",
      "Processing record number 269 | São Filipe\n",
      "Processing record number 270 | Koulikoro\n",
      "Processing record number 271 | Beringovskiy\n",
      "Processing record number 272 | Lufkin\n",
      "Processing record number 273 | Victor Harbor\n",
      "Processing record number 274 | Coquimbo\n",
      "Processing record number 275 | La Providencia\n",
      "Processing record number 276 | Odesa\n",
      "Processing record number 277 | Jesenice\n",
      "Processing record number 278 | Nouadhibou\n",
      "Processing record number 279 | Cidreira\n",
      "Processing record number 280 | Tshela\n",
      "Processing record number 281 | Kampong Thom\n",
      "Processing record number 282 | Allonnes\n",
      "Processing record number 283 | Honiara\n",
      "Processing record number 284 | College\n",
      "Processing record number 285 | Loudi\n",
      "Processing record number 286 | Peniche\n",
      "Processing record number 287 | Oranjemund\n",
      "Processing record number 288 | Ostrovnoy\n",
      "City not found... go to the next one!!\n",
      "Processing record number 289 | Acajutla\n",
      "Processing record number 290 | Ca Mau\n",
      "Processing record number 291 | San Policarpo\n",
      "Processing record number 292 | Erlangen\n",
      "Processing record number 293 | Manturovo\n",
      "Processing record number 294 | Kirakira\n",
      "Processing record number 295 | Portalegre\n",
      "Processing record number 296 | Hambantota\n",
      "City not found... go to the next one!!\n",
      "Processing record number 297 | Parker\n",
      "Processing record number 298 | Lincoln\n",
      "Processing record number 299 | Dolovo\n",
      "City not found... go to the next one!!\n",
      "Processing record number 300 | San Cristobal\n",
      "City not found... go to the next one!!\n",
      "Processing record number 301 | Isla Mujeres\n",
      "Processing record number 302 | Rio Grande\n",
      "Processing record number 303 | Oyama\n",
      "Processing record number 304 | Codrington\n",
      "Processing record number 305 | Luanda\n",
      "Processing record number 306 | Acapulco de Juárez\n",
      "Processing record number 307 | Kahului\n",
      "Processing record number 308 | Antón Lizardo\n",
      "City not found... go to the next one!!\n",
      "Processing record number 309 | Kumul\n",
      "Processing record number 310 | Cobán\n",
      "Processing record number 311 | Shonguy\n",
      "Processing record number 312 | Necochea\n",
      "Processing record number 313 | Meulaboh\n",
      "Processing record number 314 | Bonthe\n",
      "Processing record number 315 | Atbasar\n",
      "Processing record number 316 | Finschhafen\n",
      "Processing record number 317 | Arenal\n",
      "Processing record number 318 | Pushkino\n",
      "City not found... go to the next one!!\n",
      "Processing record number 319 | Asău\n",
      "Processing record number 320 | Berwick\n",
      "Processing record number 321 | Buin\n",
      "City not found... go to the next one!!\n",
      "Processing record number 322 | Caravelas\n",
      "Processing record number 323 | Hashtrūd\n",
      "City not found... go to the next one!!\n",
      "City not found... go to the next one!!\n",
      "Processing record number 324 | Slave Lake\n",
      "Processing record number 325 | Tsimmerbude\n",
      "Processing record number 326 | Lüderitz\n",
      "Processing record number 327 | Trelew\n",
      "Processing record number 328 | Belogorsk\n",
      "Processing record number 329 | Korsholm\n",
      "Processing record number 330 | Naze\n",
      "Processing record number 331 | Richards Bay\n",
      "Processing record number 332 | Paamiut\n",
      "Processing record number 333 | Strezhevoy\n",
      "Processing record number 334 | Port-Gentil\n",
      "Processing record number 335 | Hasaki\n",
      "Processing record number 336 | Pangnirtung\n",
      "Processing record number 337 | Poum\n",
      "Processing record number 338 | Almaznyy\n",
      "City not found... go to the next one!!\n",
      "Processing record number 339 | Amapá\n",
      "Processing record number 340 | Asmara\n",
      "Processing record number 341 | Gamba\n",
      "Processing record number 342 | Hualmay\n",
      "City not found... go to the next one!!\n",
      "Processing record number 343 | Maragogi\n",
      "Processing record number 344 | Kloulklubed\n",
      "City not found... go to the next one!!\n",
      "Processing record number 345 | Raisen\n",
      "Processing record number 346 | Tazovsky\n",
      "Processing record number 347 | Klášterec nad Ohří\n",
      "Processing record number 348 | Evensk\n",
      "Processing record number 349 | Mazagão\n",
      "City not found... go to the next one!!\n",
      "Processing record number 350 | Calgary\n",
      "City not found... go to the next one!!\n",
      "Processing record number 351 | Deep River\n",
      "Processing record number 352 | Samarai\n",
      "Processing record number 353 | Athabasca\n",
      "Processing record number 354 | Havre-St-Pierre\n",
      "Processing record number 355 | Lata\n",
      "Processing record number 356 | Loznica\n",
      "Processing record number 357 | Harper\n",
      "Processing record number 358 | Beloha\n",
      "Processing record number 359 | Verāval\n",
      "Processing record number 360 | Mount Isa\n",
      "Processing record number 361 | Villa Carlos Paz\n",
      "Processing record number 362 | Port Lincoln\n",
      "Processing record number 363 | Arrondissement de Pithiviers\n",
      "City not found... go to the next one!!\n",
      "City not found... go to the next one!!\n",
      "Processing record number 364 | Anadyr\n",
      "Processing record number 365 | Havøysund\n",
      "Processing record number 366 | Vestmannaeyjar\n",
      "Processing record number 367 | Oddur\n",
      "Processing record number 368 | Ancud\n",
      "Processing record number 369 | Martapura\n",
      "Processing record number 370 | Shenjiamen\n",
      "Processing record number 371 | Sydney\n"
     ]
    },
    {
     "name": "stdout",
     "output_type": "stream",
     "text": [
      "Processing record number 372 | Kaitangata\n",
      "Processing record number 373 | Lucea\n",
      "Processing record number 374 | Safford\n",
      "Processing record number 375 | Arrondissement du Havre\n",
      "Processing record number 376 | Omboué\n",
      "Processing record number 377 | Puri\n",
      "Processing record number 378 | Leh\n",
      "Processing record number 379 | Pevek\n",
      "Processing record number 380 | Kochevo\n",
      "Processing record number 381 | Sayyan\n",
      "Processing record number 382 | Tigil'\n",
      "Processing record number 383 | Katobu\n",
      "Processing record number 384 | Broome\n",
      "Processing record number 385 | Timberlake\n",
      "Processing record number 386 | Alice Springs\n",
      "Processing record number 387 | Tongliao\n",
      "Processing record number 388 | Vengerovo\n",
      "Processing record number 389 | Luau\n",
      "Processing record number 390 | Berlevåg\n",
      "Processing record number 391 | Ruwi\n",
      "Processing record number 392 | Warwick\n",
      "Processing record number 393 | Krasnosel'kup\n",
      "City not found... go to the next one!!\n",
      "Processing record number 394 | Katsuura\n",
      "Processing record number 395 | Manzhouli\n",
      "Processing record number 396 | Sinnamary\n",
      "Processing record number 397 | Lompoc\n",
      "Processing record number 398 | Bandarbeyla\n",
      "City not found... go to the next one!!\n",
      "City not found... go to the next one!!\n",
      "Processing record number 399 | Kuching\n",
      "Processing record number 400 | Ossora\n",
      "Processing record number 401 | Porto Torres\n",
      "Processing record number 402 | Santa Isabel Rio Negro\n",
      "Processing record number 403 | Jasdan\n",
      "City not found... go to the next one!!\n",
      "Processing record number 404 | Araouane\n",
      "Processing record number 405 | Ouallam\n",
      "City not found... go to the next one!!\n",
      "Processing record number 406 | Buncrana\n",
      "Processing record number 407 | Bonoua\n",
      "Processing record number 408 | Malibu\n",
      "Processing record number 409 | Chabahar\n",
      "Processing record number 410 | Barranca\n",
      "Processing record number 411 | Padang\n",
      "Processing record number 412 | Ponta Delgada\n",
      "Processing record number 413 | Nogliki\n",
      "Processing record number 414 | Kamienna Góra\n",
      "Processing record number 415 | Namioka\n",
      "Processing record number 416 | Esim\n",
      "Processing record number 417 | Aranos\n",
      "Processing record number 418 | Belyy Yar\n",
      "Processing record number 419 | Portland\n",
      "Processing record number 420 | Prata\n",
      "Processing record number 421 | Leshukonskoye\n",
      "Processing record number 422 | Siyabuswa\n",
      "Processing record number 423 | Diamantino\n",
      "Processing record number 424 | Naco\n",
      "Processing record number 425 | Lahān\n",
      "City not found... go to the next one!!\n",
      "Processing record number 426 | Tomigusuku\n",
      "Processing record number 427 | Torbay\n",
      "Processing record number 428 | Verkhoyansk\n",
      "Processing record number 429 | Half Moon Bay\n",
      "Processing record number 430 | Tarakan\n",
      "Processing record number 431 | Katangli\n",
      "Processing record number 432 | Aswān\n",
      "Processing record number 433 | Moree\n",
      "Processing record number 434 | Cockburn Town\n",
      "Processing record number 435 | Selaphum\n",
      "Processing record number 436 | Salmās\n",
      "Processing record number 437 | Rauma\n",
      "City not found... go to the next one!!\n",
      "Processing record number 438 | La Primavera\n",
      "Processing record number 439 | Sabha\n",
      "Processing record number 440 | Kieta\n",
      "Processing record number 441 | Mgachi\n",
      "Processing record number 442 | Shimoda\n",
      "Processing record number 443 | Vardø\n",
      "City not found... go to the next one!!\n",
      "Processing record number 444 | Palembang\n",
      "Processing record number 445 | Ngunguru\n",
      "Processing record number 446 | São Desidério\n",
      "Processing record number 447 | Bembèrèkè\n",
      "Processing record number 448 | Lethem\n",
      "Processing record number 449 | Terrace\n",
      "Processing record number 450 | Rehoboth\n",
      "Processing record number 451 | Merauke\n",
      "Processing record number 452 | Northam\n",
      "Processing record number 453 | North Bend\n",
      "Processing record number 454 | Kaspiysk\n",
      "Processing record number 455 | Kommunar\n",
      "Processing record number 456 | Mahibadhoo\n",
      "Processing record number 457 | Bose\n",
      "City not found... go to the next one!!\n",
      "City not found... go to the next one!!\n",
      "Processing record number 458 | Nyimba\n",
      "Processing record number 459 | Derzhavīnsk\n",
      "Processing record number 460 | Ballitoville\n",
      "Processing record number 461 | San Rafael del Sur\n",
      "Processing record number 462 | Sarany\n",
      "Processing record number 463 | Invermere\n",
      "Processing record number 464 | Gillette\n",
      "Processing record number 465 | Mahon\n",
      "City not found... go to the next one!!\n",
      "City not found... go to the next one!!\n",
      "Processing record number 466 | Socorro\n",
      "City not found... go to the next one!!\n",
      "Processing record number 467 | Port Augusta\n",
      "Processing record number 468 | Santa Isabel\n",
      "Processing record number 469 | Liberal\n",
      "Processing record number 470 | Kuala Terengganu\n",
      "Processing record number 471 | Sibolga\n",
      "Processing record number 472 | Muromtsevo\n",
      "Processing record number 473 | Svetlaya\n",
      "Processing record number 474 | Qena\n",
      "Processing record number 475 | Manali\n",
      "Processing record number 476 | Ibotirama\n",
      "Processing record number 477 | Basco\n",
      "City not found... go to the next one!!\n",
      "Processing record number 478 | Yaan\n",
      "Processing record number 479 | Mitsamiouli\n",
      "Processing record number 480 | Skovorodino\n",
      "Processing record number 481 | Urengoy\n",
      "City not found... go to the next one!!\n",
      "City not found... go to the next one!!\n",
      "Processing record number 482 | Mareeba\n",
      "Processing record number 483 | Giyani\n",
      "Processing record number 484 | Raudeberg\n",
      "Processing record number 485 | Belle Fourche\n",
      "Processing record number 486 | Boromo\n",
      "Processing record number 487 | Gallup\n",
      "Processing record number 488 | Port Moresby\n",
      "Processing record number 489 | Río Gallegos\n",
      "City not found... go to the next one!!\n",
      "Processing record number 490 | Healdsburg\n",
      "Processing record number 491 | Aldan\n",
      "Processing record number 492 | Yabēlo\n",
      "City not found... go to the next one!!\n",
      "Processing record number 493 | San Vicente\n",
      "Processing record number 494 | Doha\n",
      "Processing record number 495 | Kontagora\n",
      "Processing record number 496 | Şırnak\n",
      "Processing record number 497 | Marzuq\n",
      "Processing record number 498 | Poretskoye\n",
      "Processing record number 499 | Tokonou\n",
      "Processing record number 500 | Soe\n",
      "Processing record number 501 | Esso\n",
      "Processing record number 502 | Tornio\n",
      "Processing record number 503 | Bulolo\n",
      "Processing record number 504 | Diego de Almagro\n",
      "Processing record number 505 | Dingle\n",
      "Processing record number 506 | Żurrieq\n",
      "Processing record number 507 | Casino\n",
      "Processing record number 508 | Pāsighāt\n",
      "City not found... go to the next one!!\n",
      "Processing record number 509 | Makkah al Mukarramah\n",
      "Processing record number 510 | Sola\n",
      "Processing record number 511 | Venado Tuerto\n",
      "Processing record number 512 | Fuente de Oro\n",
      "Processing record number 513 | Deputatsky\n",
      "Processing record number 514 | Nishihara\n",
      "Processing record number 515 | Newala\n",
      "Processing record number 516 | Mattru\n",
      "Processing record number 517 | Tabou\n",
      "Processing record number 518 | Mogadishu\n",
      "Processing record number 519 | Ogaminana\n",
      "Processing record number 520 | Bluffton\n",
      "Processing record number 521 | Usogorsk\n",
      "Processing record number 522 | Tautira\n",
      "Processing record number 523 | Udachny\n",
      "Processing record number 524 | Ventspils\n",
      "Processing record number 525 | West Bay\n",
      "Processing record number 526 | Ampanihy\n",
      "Processing record number 527 | Saint-Pierre\n",
      "City not found... go to the next one!!\n",
      "Processing record number 528 | Vilyuysk\n",
      "Processing record number 529 | Inhambane\n",
      "Processing record number 530 | Beloomut\n",
      "Processing record number 531 | Zhigansk\n",
      "Processing record number 532 | Yarmouth\n",
      "Processing record number 533 | Sabang\n",
      "Processing record number 534 | Mutare\n",
      "City not found... go to the next one!!\n",
      "Processing record number 535 | Zyryanka\n",
      "City not found... go to the next one!!\n",
      "Processing record number 536 | Sulangan\n",
      "Processing record number 537 | Ambulu\n",
      "Processing record number 538 | Kisoro\n",
      "Processing record number 539 | Saint-Augustin\n",
      "City not found... go to the next one!!\n",
      "Processing record number 540 | Krasnogorskoye\n",
      "Processing record number 541 | Potiskum\n",
      "Processing record number 542 | Impfondo\n",
      "Processing record number 543 | Ilo\n",
      "Processing record number 544 | Waddān\n",
      "Processing record number 545 | Bajil\n",
      "Processing record number 546 | Belle Glade\n",
      "Processing record number 547 | Porbandar\n",
      "Processing record number 548 | Biloela\n",
      "Processing record number 549 | Rawson\n",
      "Processing record number 550 | Douentza\n",
      "Processing record number 551 | Nizhniy Tsasuchey\n",
      "Processing record number 552 | Dubti\n",
      "City not found... go to the next one!!\n"
     ]
    },
    {
     "name": "stdout",
     "output_type": "stream",
     "text": [
      "Processing record number 553 | Yatou\n",
      "Processing record number 554 | ‘Ewa Beach\n",
      "Processing record number 555 | Kalmeshwar\n",
      "Processing record number 556 | San Lucas\n",
      "Processing record number 557 | Abu Samrah\n",
      "Processing record number 558 | Kiruna\n",
      "Processing record number 559 | Alibag\n",
      "Processing record number 560 | Kroonstad\n",
      "Processing record number 561 | Banda Aceh\n",
      "Processing record number 562 | Klyuchi\n",
      "Processing record number 563 | Yerbogachën\n",
      "Processing record number 564 | Cap-aux-Meules\n",
      "Processing record number 565 | Shihezi\n",
      "Processing record number 566 | San Clemente\n",
      "Processing record number 567 | Ceres\n",
      "Processing record number 568 | Abhā\n",
      "Processing record number 569 | Ofakim\n",
      "Processing record number 570 | Nelson Bay\n",
      "Processing record number 571 | Vega de Alatorre\n",
      "Processing record number 572 | Kwang Binh\n",
      "Processing record number 573 | Marabu\n",
      "Processing record number 574 | Mataram\n",
      "Processing record number 575 | Isla Vista\n",
      "Processing record number 576 | Inuvik\n",
      "Processing record number 577 | Avera\n",
      "Processing record number 578 | Fallon\n",
      " ------$$$$$$ -----\n",
      "Data acquisition finished\n"
     ]
    }
   ],
   "source": [
    "City = []\n",
    "Lat = []\n",
    "Lng = []\n",
    "Max_Temp = []\n",
    "Humidity = []\n",
    "Cloudiness = []\n",
    "Wind_Speed = []\n",
    "Country =[]\n",
    "Date = []\n",
    "\n",
    "# Start a counter\n",
    "city_counter = 1\n",
    "\n",
    "# Pruint the statemetn to start data acquisition\n",
    "print(f\"Beginning Data Acquisition\")\n",
    "print(f\"----------------$$$$$ -------------------\")\n",
    "\n",
    "#Start looping to get each data point for each city\n",
    "\n",
    "for mainCity in cities:\n",
    "    \n",
    "    #try and except methodology in order to make sure if it doesnt find a city, the code does not break\n",
    "    try:\n",
    "        response = requests.get(query_url+ mainCity).json()\n",
    "        City.append(response[\"name\"])\n",
    "        Country.append(response[\"sys\"][\"country\"])\n",
    "        Lat.append(response[\"coord\"][\"lat\"])\n",
    "        Lng.append(response[\"coord\"][\"lon\"])\n",
    "        Max_Temp.append(response[\"main\"][\"temp_max\"])\n",
    "        Humidity.append(response[\"main\"][\"humidity\"])\n",
    "        Cloudiness.append(response[\"clouds\"][\"all\"])\n",
    "        Wind_Speed.append(response[\"wind\"][\"speed\"])\n",
    "        Date.append(response[\"dt\"])\n",
    "        \n",
    "        \n",
    "        #imput the name of the city in the print statment\n",
    "        city_selected = response[\"name\"]\n",
    "        \n",
    "        print(f\"Processing record number {city_counter} | {city_selected}\")\n",
    "        \n",
    "        # Increase the counter by 1 for each loop\n",
    "        city_counter += 1\n",
    "        \n",
    "    except(KeyError, IndexError):\n",
    "        print(\"City not found... go to the next one!!\")\n",
    "        \n",
    "    \n",
    "\n",
    "# Close the print statement after data is acquired\n",
    "print(f\" ------$$$$$$ -----\")\n",
    "print(f\"Data acquisition finished\")\n",
    "        "
   ]
  },
  {
   "cell_type": "code",
   "execution_count": 10,
   "metadata": {},
   "outputs": [
    {
     "data": {
      "text/html": [
       "<div>\n",
       "<style scoped>\n",
       "    .dataframe tbody tr th:only-of-type {\n",
       "        vertical-align: middle;\n",
       "    }\n",
       "\n",
       "    .dataframe tbody tr th {\n",
       "        vertical-align: top;\n",
       "    }\n",
       "\n",
       "    .dataframe thead th {\n",
       "        text-align: right;\n",
       "    }\n",
       "</style>\n",
       "<table border=\"1\" class=\"dataframe\">\n",
       "  <thead>\n",
       "    <tr style=\"text-align: right;\">\n",
       "      <th></th>\n",
       "      <th>City</th>\n",
       "      <th>Lat</th>\n",
       "      <th>Lng</th>\n",
       "      <th>Max Temp</th>\n",
       "      <th>Humidity</th>\n",
       "      <th>Cloudiness</th>\n",
       "      <th>Wind Speed</th>\n",
       "      <th>Country</th>\n",
       "      <th>Date</th>\n",
       "    </tr>\n",
       "  </thead>\n",
       "  <tbody>\n",
       "    <tr>\n",
       "      <th>0</th>\n",
       "      <td>Novyy Karachay</td>\n",
       "      <td>43.82</td>\n",
       "      <td>41.90</td>\n",
       "      <td>59.81</td>\n",
       "      <td>41</td>\n",
       "      <td>35</td>\n",
       "      <td>6.06</td>\n",
       "      <td>RU</td>\n",
       "      <td>1603994753</td>\n",
       "    </tr>\n",
       "    <tr>\n",
       "      <th>1</th>\n",
       "      <td>Biograd na Moru</td>\n",
       "      <td>43.94</td>\n",
       "      <td>15.45</td>\n",
       "      <td>57.99</td>\n",
       "      <td>100</td>\n",
       "      <td>20</td>\n",
       "      <td>8.86</td>\n",
       "      <td>HR</td>\n",
       "      <td>1603994753</td>\n",
       "    </tr>\n",
       "    <tr>\n",
       "      <th>2</th>\n",
       "      <td>Te Anau</td>\n",
       "      <td>-45.42</td>\n",
       "      <td>167.72</td>\n",
       "      <td>52.20</td>\n",
       "      <td>90</td>\n",
       "      <td>97</td>\n",
       "      <td>1.61</td>\n",
       "      <td>NZ</td>\n",
       "      <td>1603994753</td>\n",
       "    </tr>\n",
       "    <tr>\n",
       "      <th>3</th>\n",
       "      <td>Port Elizabeth</td>\n",
       "      <td>-33.92</td>\n",
       "      <td>25.57</td>\n",
       "      <td>59.00</td>\n",
       "      <td>87</td>\n",
       "      <td>75</td>\n",
       "      <td>26.40</td>\n",
       "      <td>ZA</td>\n",
       "      <td>1603994754</td>\n",
       "    </tr>\n",
       "    <tr>\n",
       "      <th>4</th>\n",
       "      <td>Narsaq</td>\n",
       "      <td>60.92</td>\n",
       "      <td>-46.05</td>\n",
       "      <td>32.00</td>\n",
       "      <td>95</td>\n",
       "      <td>75</td>\n",
       "      <td>2.24</td>\n",
       "      <td>GL</td>\n",
       "      <td>1603994754</td>\n",
       "    </tr>\n",
       "    <tr>\n",
       "      <th>...</th>\n",
       "      <td>...</td>\n",
       "      <td>...</td>\n",
       "      <td>...</td>\n",
       "      <td>...</td>\n",
       "      <td>...</td>\n",
       "      <td>...</td>\n",
       "      <td>...</td>\n",
       "      <td>...</td>\n",
       "      <td>...</td>\n",
       "    </tr>\n",
       "    <tr>\n",
       "      <th>573</th>\n",
       "      <td>Mataram</td>\n",
       "      <td>-8.58</td>\n",
       "      <td>116.12</td>\n",
       "      <td>79.72</td>\n",
       "      <td>77</td>\n",
       "      <td>85</td>\n",
       "      <td>1.16</td>\n",
       "      <td>ID</td>\n",
       "      <td>1603994981</td>\n",
       "    </tr>\n",
       "    <tr>\n",
       "      <th>574</th>\n",
       "      <td>Isla Vista</td>\n",
       "      <td>34.41</td>\n",
       "      <td>-119.86</td>\n",
       "      <td>68.00</td>\n",
       "      <td>45</td>\n",
       "      <td>1</td>\n",
       "      <td>3.36</td>\n",
       "      <td>US</td>\n",
       "      <td>1603994982</td>\n",
       "    </tr>\n",
       "    <tr>\n",
       "      <th>575</th>\n",
       "      <td>Inuvik</td>\n",
       "      <td>68.35</td>\n",
       "      <td>-133.72</td>\n",
       "      <td>10.36</td>\n",
       "      <td>95</td>\n",
       "      <td>99</td>\n",
       "      <td>3.42</td>\n",
       "      <td>CA</td>\n",
       "      <td>1603994758</td>\n",
       "    </tr>\n",
       "    <tr>\n",
       "      <th>576</th>\n",
       "      <td>Avera</td>\n",
       "      <td>33.19</td>\n",
       "      <td>-82.53</td>\n",
       "      <td>84.20</td>\n",
       "      <td>70</td>\n",
       "      <td>90</td>\n",
       "      <td>16.11</td>\n",
       "      <td>US</td>\n",
       "      <td>1603994982</td>\n",
       "    </tr>\n",
       "    <tr>\n",
       "      <th>577</th>\n",
       "      <td>Fallon</td>\n",
       "      <td>39.47</td>\n",
       "      <td>-118.78</td>\n",
       "      <td>55.99</td>\n",
       "      <td>26</td>\n",
       "      <td>1</td>\n",
       "      <td>1.41</td>\n",
       "      <td>US</td>\n",
       "      <td>1603994919</td>\n",
       "    </tr>\n",
       "  </tbody>\n",
       "</table>\n",
       "<p>578 rows × 9 columns</p>\n",
       "</div>"
      ],
      "text/plain": [
       "                City    Lat     Lng  Max Temp  Humidity  Cloudiness  \\\n",
       "0     Novyy Karachay  43.82   41.90     59.81        41          35   \n",
       "1    Biograd na Moru  43.94   15.45     57.99       100          20   \n",
       "2            Te Anau -45.42  167.72     52.20        90          97   \n",
       "3     Port Elizabeth -33.92   25.57     59.00        87          75   \n",
       "4             Narsaq  60.92  -46.05     32.00        95          75   \n",
       "..               ...    ...     ...       ...       ...         ...   \n",
       "573          Mataram  -8.58  116.12     79.72        77          85   \n",
       "574       Isla Vista  34.41 -119.86     68.00        45           1   \n",
       "575           Inuvik  68.35 -133.72     10.36        95          99   \n",
       "576            Avera  33.19  -82.53     84.20        70          90   \n",
       "577           Fallon  39.47 -118.78     55.99        26           1   \n",
       "\n",
       "     Wind Speed Country        Date  \n",
       "0          6.06      RU  1603994753  \n",
       "1          8.86      HR  1603994753  \n",
       "2          1.61      NZ  1603994753  \n",
       "3         26.40      ZA  1603994754  \n",
       "4          2.24      GL  1603994754  \n",
       "..          ...     ...         ...  \n",
       "573        1.16      ID  1603994981  \n",
       "574        3.36      US  1603994982  \n",
       "575        3.42      CA  1603994758  \n",
       "576       16.11      US  1603994982  \n",
       "577        1.41      US  1603994919  \n",
       "\n",
       "[578 rows x 9 columns]"
      ]
     },
     "execution_count": 10,
     "metadata": {},
     "output_type": "execute_result"
    }
   ],
   "source": [
    "city_info = {\n",
    "    \"City\": City,\n",
    "    \"Lat\": Lat,\n",
    "    \"Lng\": Lng,\n",
    "    \"Max Temp\": Max_Temp,\n",
    "    \"Humidity\": Humidity,\n",
    "    \"Cloudiness\": Cloudiness,\n",
    "    \"Wind Speed\": Wind_Speed,\n",
    "    \"Country\": Country,\n",
    "    \"Date\": Date}\n",
    "city_info_df = pd.DataFrame(city_info)\n",
    "city_info_df"
   ]
  },
  {
   "cell_type": "markdown",
   "metadata": {},
   "source": [
    "### Convert Raw Data to DataFrame\n",
    "* Export the city data into a .csv.\n",
    "* Display the DataFrame"
   ]
  },
  {
   "cell_type": "code",
   "execution_count": 11,
   "metadata": {
    "scrolled": true
   },
   "outputs": [],
   "source": [
    "city_info_df.to_csv(r'../output_data/cities.csv')"
   ]
  },
  {
   "cell_type": "code",
   "execution_count": null,
   "metadata": {},
   "outputs": [],
   "source": []
  },
  {
   "cell_type": "markdown",
   "metadata": {},
   "source": [
    "## Inspect the data and remove the cities where the humidity > 100%.\n",
    "----\n",
    "Skip this step if there are no cities that have humidity > 100%. "
   ]
  },
  {
   "cell_type": "code",
   "execution_count": 12,
   "metadata": {},
   "outputs": [
    {
     "data": {
      "text/html": [
       "<div>\n",
       "<style scoped>\n",
       "    .dataframe tbody tr th:only-of-type {\n",
       "        vertical-align: middle;\n",
       "    }\n",
       "\n",
       "    .dataframe tbody tr th {\n",
       "        vertical-align: top;\n",
       "    }\n",
       "\n",
       "    .dataframe thead th {\n",
       "        text-align: right;\n",
       "    }\n",
       "</style>\n",
       "<table border=\"1\" class=\"dataframe\">\n",
       "  <thead>\n",
       "    <tr style=\"text-align: right;\">\n",
       "      <th></th>\n",
       "      <th>City</th>\n",
       "      <th>Lat</th>\n",
       "      <th>Lng</th>\n",
       "      <th>Max Temp</th>\n",
       "      <th>Humidity</th>\n",
       "      <th>Cloudiness</th>\n",
       "      <th>Wind Speed</th>\n",
       "      <th>Country</th>\n",
       "      <th>Date</th>\n",
       "    </tr>\n",
       "  </thead>\n",
       "  <tbody>\n",
       "  </tbody>\n",
       "</table>\n",
       "</div>"
      ],
      "text/plain": [
       "Empty DataFrame\n",
       "Columns: [City, Lat, Lng, Max Temp, Humidity, Cloudiness, Wind Speed, Country, Date]\n",
       "Index: []"
      ]
     },
     "execution_count": 12,
     "metadata": {},
     "output_type": "execute_result"
    }
   ],
   "source": [
    "HHumidity = city_info_df.loc[city_info_df[\"Humidity\"] > 100, :]\n",
    "HHumidity"
   ]
  },
  {
   "cell_type": "code",
   "execution_count": 13,
   "metadata": {},
   "outputs": [],
   "source": [
    "#  Get the indices of cities that have humidity over 100%.\n"
   ]
  },
  {
   "cell_type": "code",
   "execution_count": 14,
   "metadata": {},
   "outputs": [],
   "source": [
    "# Make a new DataFrame equal to the city data to drop all humidity outliers by index.\n",
    "# Passing \"inplace=False\" will make a copy of the city_data DataFrame, which we call \"clean_city_data\".\n"
   ]
  },
  {
   "cell_type": "code",
   "execution_count": null,
   "metadata": {},
   "outputs": [],
   "source": [
    "\n"
   ]
  },
  {
   "cell_type": "markdown",
   "metadata": {},
   "source": [
    "## Plotting the Data\n",
    "* Use proper labeling of the plots using plot titles (including date of analysis) and axes labels.\n",
    "* Save the plotted figures as .pngs."
   ]
  },
  {
   "cell_type": "markdown",
   "metadata": {},
   "source": [
    "## Latitude vs. Temperature Plot"
   ]
  },
  {
   "cell_type": "code",
   "execution_count": 15,
   "metadata": {
    "scrolled": true
   },
   "outputs": [
    {
     "data": {
      "image/png": "[encoded data removed]",
      "text/plain": [
       "<Figure size 432x288 with 1 Axes>"
      ]
     },
     "metadata": {
      "needs_background": "light"
     },
     "output_type": "display_data"
    }
   ],
   "source": [
    "plt.scatter(city_info_df['Lat'], city_info_df['Max Temp'], marker=\"o\", facecolors='red')\n",
    "plt.title('Latitude Vs. Temperature',fontsize =14)\n",
    "plt.xlabel('Latitude',fontsize =10)\n",
    "plt.ylabel('Temperature',fontsize =10)\n",
    "plt.savefig(r'../output_data/LatVsTemp.png')"
   ]
  },
  {
   "cell_type": "markdown",
   "metadata": {},
   "source": [
    "## Latitude vs. Humidity Plot"
   ]
  },
  {
   "cell_type": "code",
   "execution_count": 16,
   "metadata": {},
   "outputs": [
    {
     "data": {
      "image/png": "[encoded data removed]",
      "text/plain": [
       "<Figure size 432x288 with 1 Axes>"
      ]
     },
     "metadata": {
      "needs_background": "light"
     },
     "output_type": "display_data"
    }
   ],
   "source": [
    "plt.scatter(city_info_df['Lat'], city_info_df['Humidity'], marker=\"o\", facecolors='red')\n",
    "plt.title('Latitude Vs. Humidity',fontsize =14)\n",
    "plt.xlabel('Latitude',fontsize =10)\n",
    "plt.ylabel('Humidity',fontsize =10)\n",
    "plt.savefig(r'../output_data/LatVsHumidity.png')"
   ]
  },
  {
   "cell_type": "markdown",
   "metadata": {},
   "source": [
    "## Latitude vs. Cloudiness Plot"
   ]
  },
  {
   "cell_type": "code",
   "execution_count": 17,
   "metadata": {},
   "outputs": [
    {
     "data": {
      "image/png": "[encoded data removed]",
      "text/plain": [
       "<Figure size 432x288 with 1 Axes>"
      ]
     },
     "metadata": {
      "needs_background": "light"
     },
     "output_type": "display_data"
    }
   ],
   "source": [
    "plt.scatter(city_info_df['Lat'], city_info_df['Cloudiness'], marker=\"o\", facecolors='red')\n",
    "plt.title('Latitude Vs. Cloudiness',fontsize =14)\n",
    "plt.xlabel('Latitude',fontsize =10)\n",
    "plt.ylabel('Cloudiness',fontsize =10)\n",
    "plt.savefig(r'../output_data/LatVsCloudiness.png')"
   ]
  },
  {
   "cell_type": "markdown",
   "metadata": {},
   "source": [
    "## Latitude vs. Wind Speed Plot"
   ]
  },
  {
   "cell_type": "code",
   "execution_count": 18,
   "metadata": {},
   "outputs": [
    {
     "data": {
      "image/png": "[encoded data removed]",
      "text/plain": [
       "<Figure size 432x288 with 1 Axes>"
      ]
     },
     "metadata": {
      "needs_background": "light"
     },
     "output_type": "display_data"
    }
   ],
   "source": [
    "plt.scatter(city_info_df['Lat'], city_info_df['Wind Speed'], marker=\"o\", facecolors='red')\n",
    "plt.title('Latitude Vs. Wind Speed',fontsize =14)\n",
    "plt.xlabel('Latitude',fontsize =10)\n",
    "plt.ylabel('Wind Speed',fontsize =10)\n",
    "plt.savefig(r'../output_data/LatVsWindSpeed.png')"
   ]
  },
  {
   "cell_type": "markdown",
   "metadata": {},
   "source": [
    "## Linear Regression"
   ]
  },
  {
   "cell_type": "code",
   "execution_count": 19,
   "metadata": {},
   "outputs": [
    {
     "data": {
      "text/html": [
       "<div>\n",
       "<style scoped>\n",
       "    .dataframe tbody tr th:only-of-type {\n",
       "        vertical-align: middle;\n",
       "    }\n",
       "\n",
       "    .dataframe tbody tr th {\n",
       "        vertical-align: top;\n",
       "    }\n",
       "\n",
       "    .dataframe thead th {\n",
       "        text-align: right;\n",
       "    }\n",
       "</style>\n",
       "<table border=\"1\" class=\"dataframe\">\n",
       "  <thead>\n",
       "    <tr style=\"text-align: right;\">\n",
       "      <th></th>\n",
       "      <th>City</th>\n",
       "      <th>Lat</th>\n",
       "      <th>Lng</th>\n",
       "      <th>Max Temp</th>\n",
       "      <th>Humidity</th>\n",
       "      <th>Cloudiness</th>\n",
       "      <th>Wind Speed</th>\n",
       "      <th>Country</th>\n",
       "      <th>Date</th>\n",
       "    </tr>\n",
       "  </thead>\n",
       "  <tbody>\n",
       "    <tr>\n",
       "      <th>0</th>\n",
       "      <td>Novyy Karachay</td>\n",
       "      <td>43.82</td>\n",
       "      <td>41.90</td>\n",
       "      <td>59.81</td>\n",
       "      <td>41</td>\n",
       "      <td>35</td>\n",
       "      <td>6.06</td>\n",
       "      <td>RU</td>\n",
       "      <td>1603994753</td>\n",
       "    </tr>\n",
       "    <tr>\n",
       "      <th>1</th>\n",
       "      <td>Biograd na Moru</td>\n",
       "      <td>43.94</td>\n",
       "      <td>15.45</td>\n",
       "      <td>57.99</td>\n",
       "      <td>100</td>\n",
       "      <td>20</td>\n",
       "      <td>8.86</td>\n",
       "      <td>HR</td>\n",
       "      <td>1603994753</td>\n",
       "    </tr>\n",
       "    <tr>\n",
       "      <th>4</th>\n",
       "      <td>Narsaq</td>\n",
       "      <td>60.92</td>\n",
       "      <td>-46.05</td>\n",
       "      <td>32.00</td>\n",
       "      <td>95</td>\n",
       "      <td>75</td>\n",
       "      <td>2.24</td>\n",
       "      <td>GL</td>\n",
       "      <td>1603994754</td>\n",
       "    </tr>\n",
       "    <tr>\n",
       "      <th>8</th>\n",
       "      <td>Horní Slavkov</td>\n",
       "      <td>50.14</td>\n",
       "      <td>12.81</td>\n",
       "      <td>43.00</td>\n",
       "      <td>86</td>\n",
       "      <td>0</td>\n",
       "      <td>5.82</td>\n",
       "      <td>CZ</td>\n",
       "      <td>1603994756</td>\n",
       "    </tr>\n",
       "    <tr>\n",
       "      <th>9</th>\n",
       "      <td>Ust-Nera</td>\n",
       "      <td>64.57</td>\n",
       "      <td>143.20</td>\n",
       "      <td>8.08</td>\n",
       "      <td>88</td>\n",
       "      <td>100</td>\n",
       "      <td>1.28</td>\n",
       "      <td>RU</td>\n",
       "      <td>1603994756</td>\n",
       "    </tr>\n",
       "    <tr>\n",
       "      <th>...</th>\n",
       "      <td>...</td>\n",
       "      <td>...</td>\n",
       "      <td>...</td>\n",
       "      <td>...</td>\n",
       "      <td>...</td>\n",
       "      <td>...</td>\n",
       "      <td>...</td>\n",
       "      <td>...</td>\n",
       "      <td>...</td>\n",
       "    </tr>\n",
       "    <tr>\n",
       "      <th>572</th>\n",
       "      <td>Marabu</td>\n",
       "      <td>4.41</td>\n",
       "      <td>114.01</td>\n",
       "      <td>77.00</td>\n",
       "      <td>94</td>\n",
       "      <td>40</td>\n",
       "      <td>5.44</td>\n",
       "      <td>MY</td>\n",
       "      <td>1603994903</td>\n",
       "    </tr>\n",
       "    <tr>\n",
       "      <th>574</th>\n",
       "      <td>Isla Vista</td>\n",
       "      <td>34.41</td>\n",
       "      <td>-119.86</td>\n",
       "      <td>68.00</td>\n",
       "      <td>45</td>\n",
       "      <td>1</td>\n",
       "      <td>3.36</td>\n",
       "      <td>US</td>\n",
       "      <td>1603994982</td>\n",
       "    </tr>\n",
       "    <tr>\n",
       "      <th>575</th>\n",
       "      <td>Inuvik</td>\n",
       "      <td>68.35</td>\n",
       "      <td>-133.72</td>\n",
       "      <td>10.36</td>\n",
       "      <td>95</td>\n",
       "      <td>99</td>\n",
       "      <td>3.42</td>\n",
       "      <td>CA</td>\n",
       "      <td>1603994758</td>\n",
       "    </tr>\n",
       "    <tr>\n",
       "      <th>576</th>\n",
       "      <td>Avera</td>\n",
       "      <td>33.19</td>\n",
       "      <td>-82.53</td>\n",
       "      <td>84.20</td>\n",
       "      <td>70</td>\n",
       "      <td>90</td>\n",
       "      <td>16.11</td>\n",
       "      <td>US</td>\n",
       "      <td>1603994982</td>\n",
       "    </tr>\n",
       "    <tr>\n",
       "      <th>577</th>\n",
       "      <td>Fallon</td>\n",
       "      <td>39.47</td>\n",
       "      <td>-118.78</td>\n",
       "      <td>55.99</td>\n",
       "      <td>26</td>\n",
       "      <td>1</td>\n",
       "      <td>1.41</td>\n",
       "      <td>US</td>\n",
       "      <td>1603994919</td>\n",
       "    </tr>\n",
       "  </tbody>\n",
       "</table>\n",
       "<p>400 rows × 9 columns</p>\n",
       "</div>"
      ],
      "text/plain": [
       "                City    Lat     Lng  Max Temp  Humidity  Cloudiness  \\\n",
       "0     Novyy Karachay  43.82   41.90     59.81        41          35   \n",
       "1    Biograd na Moru  43.94   15.45     57.99       100          20   \n",
       "4             Narsaq  60.92  -46.05     32.00        95          75   \n",
       "8      Horní Slavkov  50.14   12.81     43.00        86           0   \n",
       "9           Ust-Nera  64.57  143.20      8.08        88         100   \n",
       "..               ...    ...     ...       ...       ...         ...   \n",
       "572           Marabu   4.41  114.01     77.00        94          40   \n",
       "574       Isla Vista  34.41 -119.86     68.00        45           1   \n",
       "575           Inuvik  68.35 -133.72     10.36        95          99   \n",
       "576            Avera  33.19  -82.53     84.20        70          90   \n",
       "577           Fallon  39.47 -118.78     55.99        26           1   \n",
       "\n",
       "     Wind Speed Country        Date  \n",
       "0          6.06      RU  1603994753  \n",
       "1          8.86      HR  1603994753  \n",
       "4          2.24      GL  1603994754  \n",
       "8          5.82      CZ  1603994756  \n",
       "9          1.28      RU  1603994756  \n",
       "..          ...     ...         ...  \n",
       "572        5.44      MY  1603994903  \n",
       "574        3.36      US  1603994982  \n",
       "575        3.42      CA  1603994758  \n",
       "576       16.11      US  1603994982  \n",
       "577        1.41      US  1603994919  \n",
       "\n",
       "[400 rows x 9 columns]"
      ]
     },
     "execution_count": 19,
     "metadata": {},
     "output_type": "execute_result"
    }
   ],
   "source": [
    "N_Hem = city_info_df.loc[city_info_df['Lat'] >= 0,:]\n",
    "S_Hem = city_info_df.loc[city_info_df['Lat'] < 0,:]\n",
    "N_Hem"
   ]
  },
  {
   "cell_type": "markdown",
   "metadata": {},
   "source": [
    "####  Northern Hemisphere - Max Temp vs. Latitude Linear Regression"
   ]
  },
  {
   "cell_type": "code",
   "execution_count": 23,
   "metadata": {},
   "outputs": [
    {
     "data": {
      "image/png": "[encoded data removed]",
      "text/plain": [
       "<Figure size 432x288 with 1 Axes>"
      ]
     },
     "metadata": {
      "needs_background": "light"
     },
     "output_type": "display_data"
    }
   ],
   "source": [
    "x_valuesN = N_Hem['Lat']\n",
    "y_valuesN = N_Hem['Max Temp']\n",
    "\n",
    "plt.scatter(x_valuesN, y_valuesN, marker=\"o\", facecolors='red')\n",
    "\n",
    "(slope, intercept, rvalues, pvalue, stderr) = linregress(x_valuesN, y_valuesN)\n",
    "regress_values = x_valuesN *slope +intercept\n",
    "\n",
    "plt.plot(x_valuesN, regress_values, color='blue')\n",
    "plt.title('Latitude Vs. Max Temp in Northen Hemisphere',fontsize =14)\n",
    "plt.xlabel('Latitude',fontsize =10)\n",
    "plt.ylabel('Max Temp',fontsize =10)\n",
    "line_eq = \"y = \" + str(round(slope,2)) + \"x + \" + str(round(intercept,2))\n",
    "plt.annotate(line_eq,(6,10),fontsize=15,color=\"blue\")\n",
    "plt.savefig(r'../output_data/LatVsmaxtempNorthRegression.png')"
   ]
  },
  {
   "cell_type": "markdown",
   "metadata": {},
   "source": [
    "####  Southern Hemisphere - Max Temp vs. Latitude Linear Regression"
   ]
  },
  {
   "cell_type": "code",
   "execution_count": 41,
   "metadata": {},
   "outputs": [
    {
     "data": {
      "image/png": "[encoded data removed]",
      "text/plain": [
       "<Figure size 432x288 with 1 Axes>"
      ]
     },
     "metadata": {
      "needs_background": "light"
     },
     "output_type": "display_data"
    }
   ],
   "source": [
    "x_valuesS = S_Hem['Lat']\n",
    "y_valuesS = S_Hem['Max Temp']\n",
    "\n",
    "plt.scatter(x_valuesS, y_valuesS, marker=\"o\", facecolors='red')\n",
    "\n",
    "(slope, intercept, rvalues, pvalue, stderr) = linregress(x_valuesS, y_valuesS)\n",
    "regress_values = x_valuesS *slope +intercept\n",
    "\n",
    "plt.plot(x_valuesS, regress_values, color='blue')\n",
    "plt.title('Latitude Vs. Max Temp in Southern Hemisphere',fontsize =14)\n",
    "plt.xlabel('Latitude',fontsize =10)\n",
    "plt.ylabel('Max Temp',fontsize =10)\n",
    "\n",
    "line_eq = \"y = \" + str(round(slope,2)) + \"x + \" + str(round(intercept,2))\n",
    "plt.annotate(line_eq,(-55,85),fontsize=15,color=\"blue\")\n",
    "\n",
    "plt.savefig(r'../output_data/LatVsmaxtempSouthRegression.png')"
   ]
  },
  {
   "cell_type": "markdown",
   "metadata": {},
   "source": [
    "####  Northern Hemisphere - Humidity (%) vs. Latitude Linear Regression"
   ]
  },
  {
   "cell_type": "code",
   "execution_count": 36,
   "metadata": {},
   "outputs": [
    {
     "data": {
      "image/png": "[encoded data removed]",
      "text/plain": [
       "<Figure size 432x288 with 1 Axes>"
      ]
     },
     "metadata": {
      "needs_background": "light"
     },
     "output_type": "display_data"
    }
   ],
   "source": [
    "x_valuesN = N_Hem['Lat']\n",
    "y_valuesN = N_Hem['Humidity']\n",
    "\n",
    "plt.scatter(x_valuesN, y_valuesN, marker=\"o\", facecolors='red')\n",
    "\n",
    "(slope, intercept, rvalues, pvalue, stderr) = linregress(x_valuesN, y_valuesN)\n",
    "regress_values = x_valuesN *slope +intercept\n",
    "\n",
    "plt.plot(x_valuesN, regress_values, color='blue')\n",
    "plt.title('Latitude Vs. Humidity in Northen Hemisphere',fontsize =14)\n",
    "plt.xlabel('Latitude',fontsize =10)\n",
    "plt.ylabel('Humidity',fontsize =10)\n",
    "\n",
    "line_eq = \"y = \" + str(round(slope,2)) + \"x + \" + str(round(intercept,2))\n",
    "plt.annotate(line_eq,(45,20),fontsize=15,color=\"blue\")\n",
    "\n",
    "plt.savefig(r'../output_data/LatVsHumidityNorthRegression.png')"
   ]
  },
  {
   "cell_type": "markdown",
   "metadata": {},
   "source": [
    "####  Southern Hemisphere - Humidity (%) vs. Latitude Linear Regression"
   ]
  },
  {
   "cell_type": "code",
   "execution_count": 46,
   "metadata": {},
   "outputs": [
    {
     "data": {
      "image/png": "[encoded data removed]",
      "text/plain": [
       "<Figure size 432x288 with 1 Axes>"
      ]
     },
     "metadata": {
      "needs_background": "light"
     },
     "output_type": "display_data"
    }
   ],
   "source": [
    "x_valuesS = S_Hem['Lat']\n",
    "y_valuesS = S_Hem['Humidity']\n",
    "\n",
    "plt.scatter(x_valuesS, y_valuesS, marker=\"o\", facecolors='red')\n",
    "\n",
    "(slope, intercept, rvalues, pvalue, stderr) = linregress(x_valuesS, y_valuesS)\n",
    "regress_values = x_valuesS *slope +intercept\n",
    "\n",
    "plt.plot(x_valuesS, regress_values,color='blue')\n",
    "plt.title('Latitude Vs. Max Humidity in Southern Hemisphere',fontsize =14)\n",
    "plt.xlabel('Latitude',fontsize =10)\n",
    "plt.ylabel('Humidity',fontsize =10)\n",
    "\n",
    "line_eq = \"y = \" + str(round(slope,2)) + \"x + \" + str(round(intercept,2))\n",
    "plt.annotate(line_eq,(-55,50),fontsize=15,color=\"blue\")\n",
    "\n",
    "plt.savefig(r'../output_data/LatVsHumiditySouthRegression.png')"
   ]
  },
  {
   "cell_type": "markdown",
   "metadata": {},
   "source": [
    "####  Northern Hemisphere - Cloudiness (%) vs. Latitude Linear Regression"
   ]
  },
  {
   "cell_type": "code",
   "execution_count": 48,
   "metadata": {},
   "outputs": [
    {
     "data": {
      "image/png": "[encoded data removed]",
      "text/plain": [
       "<Figure size 432x288 with 1 Axes>"
      ]
     },
     "metadata": {
      "needs_background": "light"
     },
     "output_type": "display_data"
    }
   ],
   "source": [
    "x_valuesN = N_Hem['Lat']\n",
    "y_valuesN = N_Hem['Cloudiness']\n",
    "\n",
    "plt.scatter(x_valuesN, y_valuesN, marker=\"o\", facecolors='red')\n",
    "\n",
    "(slope, intercept, rvalues, pvalue, stderr) = linregress(x_valuesN, y_valuesN)\n",
    "regress_values = x_valuesN *slope +intercept\n",
    "\n",
    "plt.plot(x_valuesN, regress_values, color='blue')\n",
    "plt.title('Latitude Vs. Cloudiness in Northen Hemisphere',fontsize =14)\n",
    "plt.xlabel('Latitude',fontsize =10)\n",
    "plt.ylabel('Cloudiness',fontsize =10)\n",
    "\n",
    "line_eq = \"y = \" + str(round(slope,2)) + \"x + \" + str(round(intercept,2))\n",
    "plt.annotate(line_eq,(45,10),fontsize=15,color=\"blue\")\n",
    "\n",
    "plt.savefig(r'../output_data/LatVsCloudinessNorthRegression.png')"
   ]
  },
  {
   "cell_type": "markdown",
   "metadata": {},
   "source": [
    "####  Southern Hemisphere - Cloudiness (%) vs. Latitude Linear Regression"
   ]
  },
  {
   "cell_type": "code",
   "execution_count": 49,
   "metadata": {},
   "outputs": [
    {
     "data": {
      "image/png": "[encoded data removed]",
      "text/plain": [
       "<Figure size 432x288 with 1 Axes>"
      ]
     },
     "metadata": {
      "needs_background": "light"
     },
     "output_type": "display_data"
    }
   ],
   "source": [
    "x_valuesS = S_Hem['Lat']\n",
    "y_valuesS = S_Hem['Cloudiness']\n",
    "\n",
    "plt.scatter(x_valuesS, y_valuesS, marker=\"o\", facecolors='red')\n",
    "\n",
    "(slope, intercept, rvalues, pvalue, stderr) = linregress(x_valuesS, y_valuesS)\n",
    "regress_values = x_valuesS *slope +intercept\n",
    "\n",
    "plt.plot(x_valuesS, regress_values, color='blue')\n",
    "plt.title('Latitude Vs. Cloudiness in Southern Hemisphere',fontsize =14)\n",
    "plt.xlabel('Latitude',fontsize =10)\n",
    "plt.ylabel('Cloudiness',fontsize =10)\n",
    "\n",
    "line_eq = \"y = \" + str(round(slope,2)) + \"x + \" + str(round(intercept,2))\n",
    "plt.annotate(line_eq,(-55,50),fontsize=15,color=\"blue\")\n",
    "\n",
    "plt.savefig(r'../output_data/LatVsCloudinessSouthRegression.png')"
   ]
  },
  {
   "cell_type": "markdown",
   "metadata": {},
   "source": [
    "####  Northern Hemisphere - Wind Speed (mph) vs. Latitude Linear Regression"
   ]
  },
  {
   "cell_type": "code",
   "execution_count": 53,
   "metadata": {},
   "outputs": [
    {
     "data": {
      "image/png": "[encoded data removed]",
      "text/plain": [
       "<Figure size 432x288 with 1 Axes>"
      ]
     },
     "metadata": {
      "needs_background": "light"
     },
     "output_type": "display_data"
    }
   ],
   "source": [
    "x_valuesN = N_Hem['Lat']\n",
    "y_valuesN = N_Hem['Wind Speed']\n",
    "\n",
    "plt.scatter(x_valuesN, y_valuesN, marker=\"o\", facecolors='red')\n",
    "\n",
    "(slope, intercept, rvalues, pvalue, stderr) = linregress(x_valuesN, y_valuesN)\n",
    "regress_values = x_valuesN *slope +intercept\n",
    "\n",
    "plt.plot(x_valuesN, regress_values, color='blue')\n",
    "plt.title('Latitude Vs. Wind Speed in Northen Hemisphere',fontsize =14)\n",
    "plt.xlabel('Latitude',fontsize =10)\n",
    "plt.ylabel('Wind Speed',fontsize =10)\n",
    "\n",
    "line_eq = \"y = \" + str(round(slope,2)) + \"x + \" + str(round(intercept,2))\n",
    "plt.annotate(line_eq,(25,27),fontsize=15,color=\"blue\")\n",
    "\n",
    "plt.savefig(r'../output_data/LatVsWindSpeedNorthRegression.png')"
   ]
  },
  {
   "cell_type": "markdown",
   "metadata": {},
   "source": [
    "####  Southern Hemisphere - Wind Speed (mph) vs. Latitude Linear Regression"
   ]
  },
  {
   "cell_type": "code",
   "execution_count": 55,
   "metadata": {},
   "outputs": [
    {
     "data": {
      "image/png": "[encoded data removed]",
      "text/plain": [
       "<Figure size 432x288 with 1 Axes>"
      ]
     },
     "metadata": {
      "needs_background": "light"
     },
     "output_type": "display_data"
    }
   ],
   "source": [
    "x_valuesS = S_Hem['Lat']\n",
    "y_valuesS = S_Hem['Wind Speed']\n",
    "\n",
    "plt.scatter(x_valuesS, y_valuesS, marker=\"o\", facecolors='red')\n",
    "\n",
    "(slope, intercept, rvalues, pvalue, stderr) = linregress(x_valuesS, y_valuesS)\n",
    "regress_values = x_valuesS *slope +intercept\n",
    "\n",
    "plt.plot(x_valuesS, regress_values, color='blue')\n",
    "plt.title('Latitude Vs. Wind Speed in Southern Hemisphere',fontsize =14)\n",
    "plt.xlabel('Latitude',fontsize =10)\n",
    "plt.ylabel('Wind Speed',fontsize =10)\n",
    "\n",
    "line_eq = \"y = \" + str(round(slope,2)) + \"x + \" + str(round(intercept,2))\n",
    "plt.annotate(line_eq,(-30,35),fontsize=15,color=\"blue\")\n",
    "\n",
    "plt.savefig(r'../output_data/LatVswindspeedSouthRegression.png')"
   ]
  },
  {
   "cell_type": "code",
   "execution_count": null,
   "metadata": {},
   "outputs": [],
   "source": []
  }
 ],
 "metadata": {
  "anaconda-cloud": {},
  "kernel_info": {
   "name": "python3"
  },
  "kernelspec": {
   "display_name": "Python 3",
   "language": "python",
   "name": "python3"
  },
  "language_info": {
   "codemirror_mode": {
    "name": "ipython",
    "version": 3
   },
   "file_extension": ".py",
   "mimetype": "text/x-python",
   "name": "python",
   "nbconvert_exporter": "python",
   "pygments_lexer": "ipython3",
   "version": "3.6.10"
  },
  "latex_envs": {
   "LaTeX_envs_menu_present": true,
   "autoclose": false,
   "autocomplete": true,
   "bibliofile": "biblio.bib",
   "cite_by": "apalike",
   "current_citInitial": 1,
   "eqLabelWithNumbers": true,
   "eqNumInitial": 1,
   "hotkeys": {
    "equation": "Ctrl-E",
    "itemize": "Ctrl-I"
   },
   "labels_anchors": false,
   "latex_user_defs": false,
   "report_style_numbering": false,
   "user_envs_cfg": false
  },
  "nteract": {
   "version": "0.12.3"
  }
 },
 "nbformat": 4,
 "nbformat_minor": 2
}
